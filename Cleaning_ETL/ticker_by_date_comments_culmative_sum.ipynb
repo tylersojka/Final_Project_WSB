{
 "cells": [
  {
   "cell_type": "code",
   "execution_count": 1,
   "metadata": {},
   "outputs": [],
   "source": [
    "import re\n",
    "import pandas as pd\n",
    "from datetime import datetime\n",
    "import numpy as np\n",
    "import boto3"
   ]
  },
  {
   "cell_type": "code",
   "execution_count": 2,
   "metadata": {},
   "outputs": [
    {
     "output_type": "error",
     "ename": "NameError",
     "evalue": "name 'gittest' is not defined",
     "traceback": [
      "\u001b[0;31m---------------------------------------------------------------------------\u001b[0m",
      "\u001b[0;31mNameError\u001b[0m                                 Traceback (most recent call last)",
      "\u001b[0;32m<ipython-input-2-e07eaabf199d>\u001b[0m in \u001b[0;36m<module>\u001b[0;34m\u001b[0m\n\u001b[0;32m----> 1\u001b[0;31m \u001b[0mgittest\u001b[0m\u001b[0;34m\u001b[0m\u001b[0;34m\u001b[0m\u001b[0m\n\u001b[0m",
      "\u001b[0;31mNameError\u001b[0m: name 'gittest' is not defined"
     ]
    }
   ],
   "source": [
    "gittest"
   ]
  },
  {
   "cell_type": "code",
   "execution_count": null,
   "metadata": {},
   "outputs": [],
   "source": [
    "df = pd.read_csv('/Users/gregfinin/Project/comments.csv')"
   ]
  },
  {
   "cell_type": "code",
   "execution_count": null,
   "metadata": {},
   "outputs": [],
   "source": [
    "df['body'].dropna()"
   ]
  },
  {
   "cell_type": "code",
   "execution_count": null,
   "metadata": {},
   "outputs": [],
   "source": [
    "comment_df = pd.DataFrame({\n",
    "    'body': df['body'],\n",
    "    'date_created': pd.to_datetime(df['created_utc'], unit='s')\n",
    "})\n",
    "comment_df"
   ]
  },
  {
   "cell_type": "code",
   "execution_count": null,
   "metadata": {},
   "outputs": [],
   "source": [
    "comment_df_cleaned = comment_df['body'].dropna(how=any)\n",
    "comment_df_cleaned"
   ]
  },
  {
   "cell_type": "code",
   "execution_count": null,
   "metadata": {},
   "outputs": [],
   "source": [
    "cleaned_df = pd.DataFrame(comment_df_cleaned)\n",
    "cleaned_df['date'] = comment_df['date_created']\n",
    "cleaned_df"
   ]
  },
  {
   "cell_type": "code",
   "execution_count": 8,
   "metadata": {},
   "outputs": [
    {
     "output_type": "execute_result",
     "data": {
      "text/plain": [
       "     Ticker Name  Ticker Count\n",
       "0            GME         52231\n",
       "1            AMC         22200\n",
       "2           NEXT         11282\n",
       "3             BB          7235\n",
       "4           GOOD          6508\n",
       "...          ...           ...\n",
       "6930        ZUMZ             0\n",
       "6931         ZVO             0\n",
       "6932        ZWRK             0\n",
       "6933       ZWRKU             0\n",
       "6934       ZWRKW             0\n",
       "\n",
       "[6935 rows x 2 columns]"
      ],
      "text/html": "<div>\n<style scoped>\n    .dataframe tbody tr th:only-of-type {\n        vertical-align: middle;\n    }\n\n    .dataframe tbody tr th {\n        vertical-align: top;\n    }\n\n    .dataframe thead th {\n        text-align: right;\n    }\n</style>\n<table border=\"1\" class=\"dataframe\">\n  <thead>\n    <tr style=\"text-align: right;\">\n      <th></th>\n      <th>Ticker Name</th>\n      <th>Ticker Count</th>\n    </tr>\n  </thead>\n  <tbody>\n    <tr>\n      <th>0</th>\n      <td>GME</td>\n      <td>52231</td>\n    </tr>\n    <tr>\n      <th>1</th>\n      <td>AMC</td>\n      <td>22200</td>\n    </tr>\n    <tr>\n      <th>2</th>\n      <td>NEXT</td>\n      <td>11282</td>\n    </tr>\n    <tr>\n      <th>3</th>\n      <td>BB</td>\n      <td>7235</td>\n    </tr>\n    <tr>\n      <th>4</th>\n      <td>GOOD</td>\n      <td>6508</td>\n    </tr>\n    <tr>\n      <th>...</th>\n      <td>...</td>\n      <td>...</td>\n    </tr>\n    <tr>\n      <th>6930</th>\n      <td>ZUMZ</td>\n      <td>0</td>\n    </tr>\n    <tr>\n      <th>6931</th>\n      <td>ZVO</td>\n      <td>0</td>\n    </tr>\n    <tr>\n      <th>6932</th>\n      <td>ZWRK</td>\n      <td>0</td>\n    </tr>\n    <tr>\n      <th>6933</th>\n      <td>ZWRKU</td>\n      <td>0</td>\n    </tr>\n    <tr>\n      <th>6934</th>\n      <td>ZWRKW</td>\n      <td>0</td>\n    </tr>\n  </tbody>\n</table>\n<p>6935 rows × 2 columns</p>\n</div>"
     },
     "metadata": {},
     "execution_count": 8
    }
   ],
   "source": [
    "stonk_df = pd.read_csv('/Users/gregfinin/Class/Final_Project_WSB/stocks_df_final.csv')\n",
    "stonk_df"
   ]
  },
  {
   "cell_type": "code",
   "execution_count": null,
   "metadata": {},
   "outputs": [],
   "source": []
  },
  {
   "cell_type": "code",
   "execution_count": 9,
   "metadata": {},
   "outputs": [],
   "source": [
    "ticker_tester = ['gme', 'amc', 'bb']"
   ]
  },
  {
   "cell_type": "code",
   "execution_count": 10,
   "metadata": {},
   "outputs": [],
   "source": [
    "for ticker in ticker_tester:\n",
    "    cleaned_df[ticker] = np.where(cleaned_df['body'].str.lower().str.contains(ticker), 1, 0)"
   ]
  },
  {
   "cell_type": "code",
   "execution_count": 11,
   "metadata": {},
   "outputs": [],
   "source": [
    "cleaned_df['date'] = cleaned_df['date'].dt.date"
   ]
  },
  {
   "cell_type": "code",
   "execution_count": 12,
   "metadata": {},
   "outputs": [
    {
     "output_type": "execute_result",
     "data": {
      "text/plain": [
       "                                                      body        date  gme  \\\n",
       "0                                                 #DIPPING  2020-12-14    0   \n",
       "1                                         NIO and SPCE ftw  2020-12-14    0   \n",
       "2                                                     Flat  2020-12-14    0   \n",
       "3        Lol what happened to the limit up everyone's b...  2020-12-14    0   \n",
       "4                                        Jan 22 2021, 40.5  2020-12-14    0   \n",
       "...                                                    ...         ...  ...   \n",
       "9559652  Lmao I got 2 nights to sleep over it. I might ...  2021-01-23    0   \n",
       "9559653  Squeeze aside. Are there price targets for GME...  2021-01-23    1   \n",
       "9559654                                      TD Ameritrade  2021-01-23    0   \n",
       "9559655  Same. I've got 30k in savings but thinking of ...  2021-01-23    0   \n",
       "9559656  Imagine being so uneducated and ingnorant you ...  2021-01-23    0   \n",
       "\n",
       "         amc  bb  \n",
       "0          0   0  \n",
       "1          0   0  \n",
       "2          0   0  \n",
       "3          0   0  \n",
       "4          0   0  \n",
       "...      ...  ..  \n",
       "9559652    0   0  \n",
       "9559653    0   0  \n",
       "9559654    0   0  \n",
       "9559655    0   0  \n",
       "9559656    0   0  \n",
       "\n",
       "[9559647 rows x 5 columns]"
      ],
      "text/html": "<div>\n<style scoped>\n    .dataframe tbody tr th:only-of-type {\n        vertical-align: middle;\n    }\n\n    .dataframe tbody tr th {\n        vertical-align: top;\n    }\n\n    .dataframe thead th {\n        text-align: right;\n    }\n</style>\n<table border=\"1\" class=\"dataframe\">\n  <thead>\n    <tr style=\"text-align: right;\">\n      <th></th>\n      <th>body</th>\n      <th>date</th>\n      <th>gme</th>\n      <th>amc</th>\n      <th>bb</th>\n    </tr>\n  </thead>\n  <tbody>\n    <tr>\n      <th>0</th>\n      <td>#DIPPING</td>\n      <td>2020-12-14</td>\n      <td>0</td>\n      <td>0</td>\n      <td>0</td>\n    </tr>\n    <tr>\n      <th>1</th>\n      <td>NIO and SPCE ftw</td>\n      <td>2020-12-14</td>\n      <td>0</td>\n      <td>0</td>\n      <td>0</td>\n    </tr>\n    <tr>\n      <th>2</th>\n      <td>Flat</td>\n      <td>2020-12-14</td>\n      <td>0</td>\n      <td>0</td>\n      <td>0</td>\n    </tr>\n    <tr>\n      <th>3</th>\n      <td>Lol what happened to the limit up everyone's b...</td>\n      <td>2020-12-14</td>\n      <td>0</td>\n      <td>0</td>\n      <td>0</td>\n    </tr>\n    <tr>\n      <th>4</th>\n      <td>Jan 22 2021, 40.5</td>\n      <td>2020-12-14</td>\n      <td>0</td>\n      <td>0</td>\n      <td>0</td>\n    </tr>\n    <tr>\n      <th>...</th>\n      <td>...</td>\n      <td>...</td>\n      <td>...</td>\n      <td>...</td>\n      <td>...</td>\n    </tr>\n    <tr>\n      <th>9559652</th>\n      <td>Lmao I got 2 nights to sleep over it. I might ...</td>\n      <td>2021-01-23</td>\n      <td>0</td>\n      <td>0</td>\n      <td>0</td>\n    </tr>\n    <tr>\n      <th>9559653</th>\n      <td>Squeeze aside. Are there price targets for GME...</td>\n      <td>2021-01-23</td>\n      <td>1</td>\n      <td>0</td>\n      <td>0</td>\n    </tr>\n    <tr>\n      <th>9559654</th>\n      <td>TD Ameritrade</td>\n      <td>2021-01-23</td>\n      <td>0</td>\n      <td>0</td>\n      <td>0</td>\n    </tr>\n    <tr>\n      <th>9559655</th>\n      <td>Same. I've got 30k in savings but thinking of ...</td>\n      <td>2021-01-23</td>\n      <td>0</td>\n      <td>0</td>\n      <td>0</td>\n    </tr>\n    <tr>\n      <th>9559656</th>\n      <td>Imagine being so uneducated and ingnorant you ...</td>\n      <td>2021-01-23</td>\n      <td>0</td>\n      <td>0</td>\n      <td>0</td>\n    </tr>\n  </tbody>\n</table>\n<p>9559647 rows × 5 columns</p>\n</div>"
     },
     "metadata": {},
     "execution_count": 12
    }
   ],
   "source": [
    "cleaned_df"
   ]
  },
  {
   "cell_type": "code",
   "execution_count": 13,
   "metadata": {},
   "outputs": [
    {
     "output_type": "execute_result",
     "data": {
      "text/plain": [
       "              gme    amc     bb\n",
       "date                           \n",
       "2020-12-08   2924     22    424\n",
       "2020-12-09   2682     12    913\n",
       "2020-12-10    946     34    997\n",
       "2020-12-11    599     38    733\n",
       "2020-12-12    348     46    677\n",
       "2020-12-13    470     20    413\n",
       "2020-12-14   1025     79    539\n",
       "2020-12-15   1123    109    536\n",
       "2020-12-16    587    110    495\n",
       "2020-12-17    763    107    960\n",
       "2020-12-18   1165     37    955\n",
       "2020-12-19    365     17    452\n",
       "2020-12-20    369     12    379\n",
       "2020-12-21   1071    108    588\n",
       "2020-12-22   3690     57    729\n",
       "2020-12-23   4494     41    733\n",
       "2020-12-24   2040     10    454\n",
       "2020-12-25    966     25    331\n",
       "2020-12-26   1050     29    312\n",
       "2020-12-27   1317     32    428\n",
       "2020-12-28   2935     73    549\n",
       "2020-12-29   2551     54    664\n",
       "2020-12-30   2056     56    537\n",
       "2020-12-31   3097     52    566\n",
       "2021-01-01   1012     21    337\n",
       "2021-01-02   1098      8    404\n",
       "2021-01-03    719      3    341\n",
       "2021-01-04   1782     10    537\n",
       "2021-01-05   1445     22    641\n",
       "2021-01-06   1220     10    923\n",
       "2021-01-07   1122     16   1041\n",
       "2021-01-08   1134      5   1358\n",
       "2021-01-09    464      4    886\n",
       "2021-01-10    742      6    672\n",
       "2021-01-11   2513     11    844\n",
       "2021-01-12   1273     18    799\n",
       "2021-01-13  11797     16    738\n",
       "2021-01-14  16050     23   4193\n",
       "2021-01-15  16038    157   9408\n",
       "2021-01-16   4730      9   2109\n",
       "2021-01-17   3832      9   1614\n",
       "2021-01-18   5860    112   2637\n",
       "2021-01-19   9986    253   5700\n",
       "2021-01-20   7716    179   6173\n",
       "2021-01-21   8988     87   5543\n",
       "2021-01-22  17342   1120  10039\n",
       "2021-01-23  10800    151   5972\n",
       "2021-01-24   3245     29   1383\n",
       "2021-01-27  41289  28415  18774\n",
       "2021-01-28  75240  32701  22594\n",
       "2021-01-29  59986  29956  17943\n",
       "2021-01-30  42644  24029  10989\n",
       "2021-01-31  42689  18493   8405\n",
       "2021-02-01  49206  31592   9870\n",
       "2021-02-02  44371  21521   6130\n",
       "2021-02-03   3334   1483    616"
      ],
      "text/html": "<div>\n<style scoped>\n    .dataframe tbody tr th:only-of-type {\n        vertical-align: middle;\n    }\n\n    .dataframe tbody tr th {\n        vertical-align: top;\n    }\n\n    .dataframe thead th {\n        text-align: right;\n    }\n</style>\n<table border=\"1\" class=\"dataframe\">\n  <thead>\n    <tr style=\"text-align: right;\">\n      <th></th>\n      <th>gme</th>\n      <th>amc</th>\n      <th>bb</th>\n    </tr>\n    <tr>\n      <th>date</th>\n      <th></th>\n      <th></th>\n      <th></th>\n    </tr>\n  </thead>\n  <tbody>\n    <tr>\n      <th>2020-12-08</th>\n      <td>2924</td>\n      <td>22</td>\n      <td>424</td>\n    </tr>\n    <tr>\n      <th>2020-12-09</th>\n      <td>2682</td>\n      <td>12</td>\n      <td>913</td>\n    </tr>\n    <tr>\n      <th>2020-12-10</th>\n      <td>946</td>\n      <td>34</td>\n      <td>997</td>\n    </tr>\n    <tr>\n      <th>2020-12-11</th>\n      <td>599</td>\n      <td>38</td>\n      <td>733</td>\n    </tr>\n    <tr>\n      <th>2020-12-12</th>\n      <td>348</td>\n      <td>46</td>\n      <td>677</td>\n    </tr>\n    <tr>\n      <th>2020-12-13</th>\n      <td>470</td>\n      <td>20</td>\n      <td>413</td>\n    </tr>\n    <tr>\n      <th>2020-12-14</th>\n      <td>1025</td>\n      <td>79</td>\n      <td>539</td>\n    </tr>\n    <tr>\n      <th>2020-12-15</th>\n      <td>1123</td>\n      <td>109</td>\n      <td>536</td>\n    </tr>\n    <tr>\n      <th>2020-12-16</th>\n      <td>587</td>\n      <td>110</td>\n      <td>495</td>\n    </tr>\n    <tr>\n      <th>2020-12-17</th>\n      <td>763</td>\n      <td>107</td>\n      <td>960</td>\n    </tr>\n    <tr>\n      <th>2020-12-18</th>\n      <td>1165</td>\n      <td>37</td>\n      <td>955</td>\n    </tr>\n    <tr>\n      <th>2020-12-19</th>\n      <td>365</td>\n      <td>17</td>\n      <td>452</td>\n    </tr>\n    <tr>\n      <th>2020-12-20</th>\n      <td>369</td>\n      <td>12</td>\n      <td>379</td>\n    </tr>\n    <tr>\n      <th>2020-12-21</th>\n      <td>1071</td>\n      <td>108</td>\n      <td>588</td>\n    </tr>\n    <tr>\n      <th>2020-12-22</th>\n      <td>3690</td>\n      <td>57</td>\n      <td>729</td>\n    </tr>\n    <tr>\n      <th>2020-12-23</th>\n      <td>4494</td>\n      <td>41</td>\n      <td>733</td>\n    </tr>\n    <tr>\n      <th>2020-12-24</th>\n      <td>2040</td>\n      <td>10</td>\n      <td>454</td>\n    </tr>\n    <tr>\n      <th>2020-12-25</th>\n      <td>966</td>\n      <td>25</td>\n      <td>331</td>\n    </tr>\n    <tr>\n      <th>2020-12-26</th>\n      <td>1050</td>\n      <td>29</td>\n      <td>312</td>\n    </tr>\n    <tr>\n      <th>2020-12-27</th>\n      <td>1317</td>\n      <td>32</td>\n      <td>428</td>\n    </tr>\n    <tr>\n      <th>2020-12-28</th>\n      <td>2935</td>\n      <td>73</td>\n      <td>549</td>\n    </tr>\n    <tr>\n      <th>2020-12-29</th>\n      <td>2551</td>\n      <td>54</td>\n      <td>664</td>\n    </tr>\n    <tr>\n      <th>2020-12-30</th>\n      <td>2056</td>\n      <td>56</td>\n      <td>537</td>\n    </tr>\n    <tr>\n      <th>2020-12-31</th>\n      <td>3097</td>\n      <td>52</td>\n      <td>566</td>\n    </tr>\n    <tr>\n      <th>2021-01-01</th>\n      <td>1012</td>\n      <td>21</td>\n      <td>337</td>\n    </tr>\n    <tr>\n      <th>2021-01-02</th>\n      <td>1098</td>\n      <td>8</td>\n      <td>404</td>\n    </tr>\n    <tr>\n      <th>2021-01-03</th>\n      <td>719</td>\n      <td>3</td>\n      <td>341</td>\n    </tr>\n    <tr>\n      <th>2021-01-04</th>\n      <td>1782</td>\n      <td>10</td>\n      <td>537</td>\n    </tr>\n    <tr>\n      <th>2021-01-05</th>\n      <td>1445</td>\n      <td>22</td>\n      <td>641</td>\n    </tr>\n    <tr>\n      <th>2021-01-06</th>\n      <td>1220</td>\n      <td>10</td>\n      <td>923</td>\n    </tr>\n    <tr>\n      <th>2021-01-07</th>\n      <td>1122</td>\n      <td>16</td>\n      <td>1041</td>\n    </tr>\n    <tr>\n      <th>2021-01-08</th>\n      <td>1134</td>\n      <td>5</td>\n      <td>1358</td>\n    </tr>\n    <tr>\n      <th>2021-01-09</th>\n      <td>464</td>\n      <td>4</td>\n      <td>886</td>\n    </tr>\n    <tr>\n      <th>2021-01-10</th>\n      <td>742</td>\n      <td>6</td>\n      <td>672</td>\n    </tr>\n    <tr>\n      <th>2021-01-11</th>\n      <td>2513</td>\n      <td>11</td>\n      <td>844</td>\n    </tr>\n    <tr>\n      <th>2021-01-12</th>\n      <td>1273</td>\n      <td>18</td>\n      <td>799</td>\n    </tr>\n    <tr>\n      <th>2021-01-13</th>\n      <td>11797</td>\n      <td>16</td>\n      <td>738</td>\n    </tr>\n    <tr>\n      <th>2021-01-14</th>\n      <td>16050</td>\n      <td>23</td>\n      <td>4193</td>\n    </tr>\n    <tr>\n      <th>2021-01-15</th>\n      <td>16038</td>\n      <td>157</td>\n      <td>9408</td>\n    </tr>\n    <tr>\n      <th>2021-01-16</th>\n      <td>4730</td>\n      <td>9</td>\n      <td>2109</td>\n    </tr>\n    <tr>\n      <th>2021-01-17</th>\n      <td>3832</td>\n      <td>9</td>\n      <td>1614</td>\n    </tr>\n    <tr>\n      <th>2021-01-18</th>\n      <td>5860</td>\n      <td>112</td>\n      <td>2637</td>\n    </tr>\n    <tr>\n      <th>2021-01-19</th>\n      <td>9986</td>\n      <td>253</td>\n      <td>5700</td>\n    </tr>\n    <tr>\n      <th>2021-01-20</th>\n      <td>7716</td>\n      <td>179</td>\n      <td>6173</td>\n    </tr>\n    <tr>\n      <th>2021-01-21</th>\n      <td>8988</td>\n      <td>87</td>\n      <td>5543</td>\n    </tr>\n    <tr>\n      <th>2021-01-22</th>\n      <td>17342</td>\n      <td>1120</td>\n      <td>10039</td>\n    </tr>\n    <tr>\n      <th>2021-01-23</th>\n      <td>10800</td>\n      <td>151</td>\n      <td>5972</td>\n    </tr>\n    <tr>\n      <th>2021-01-24</th>\n      <td>3245</td>\n      <td>29</td>\n      <td>1383</td>\n    </tr>\n    <tr>\n      <th>2021-01-27</th>\n      <td>41289</td>\n      <td>28415</td>\n      <td>18774</td>\n    </tr>\n    <tr>\n      <th>2021-01-28</th>\n      <td>75240</td>\n      <td>32701</td>\n      <td>22594</td>\n    </tr>\n    <tr>\n      <th>2021-01-29</th>\n      <td>59986</td>\n      <td>29956</td>\n      <td>17943</td>\n    </tr>\n    <tr>\n      <th>2021-01-30</th>\n      <td>42644</td>\n      <td>24029</td>\n      <td>10989</td>\n    </tr>\n    <tr>\n      <th>2021-01-31</th>\n      <td>42689</td>\n      <td>18493</td>\n      <td>8405</td>\n    </tr>\n    <tr>\n      <th>2021-02-01</th>\n      <td>49206</td>\n      <td>31592</td>\n      <td>9870</td>\n    </tr>\n    <tr>\n      <th>2021-02-02</th>\n      <td>44371</td>\n      <td>21521</td>\n      <td>6130</td>\n    </tr>\n    <tr>\n      <th>2021-02-03</th>\n      <td>3334</td>\n      <td>1483</td>\n      <td>616</td>\n    </tr>\n  </tbody>\n</table>\n</div>"
     },
     "metadata": {},
     "execution_count": 13
    }
   ],
   "source": [
    "comment_agg_df = cleaned_df.groupby('date')[ticker_tester].sum()\n",
    "comment_agg_df"
   ]
  },
  {
   "cell_type": "code",
   "execution_count": 17,
   "metadata": {},
   "outputs": [],
   "source": [
    "for col in comment_agg_df:\n",
    "    new = 'running total' + col\n",
    "    comment_agg_df[new] = np.cumsum(comment_agg_df[col])\n"
   ]
  },
  {
   "cell_type": "code",
   "execution_count": 18,
   "metadata": {},
   "outputs": [
    {
     "output_type": "execute_result",
     "data": {
      "text/plain": [
       "              gme    amc     bb  running totalgme  running totalamc  \\\n",
       "date                                                                  \n",
       "2020-12-08   2924     22    424              2924                22   \n",
       "2020-12-09   2682     12    913              5606                34   \n",
       "2020-12-10    946     34    997              6552                68   \n",
       "2020-12-11    599     38    733              7151               106   \n",
       "2020-12-12    348     46    677              7499               152   \n",
       "2020-12-13    470     20    413              7969               172   \n",
       "2020-12-14   1025     79    539              8994               251   \n",
       "2020-12-15   1123    109    536             10117               360   \n",
       "2020-12-16    587    110    495             10704               470   \n",
       "2020-12-17    763    107    960             11467               577   \n",
       "2020-12-18   1165     37    955             12632               614   \n",
       "2020-12-19    365     17    452             12997               631   \n",
       "2020-12-20    369     12    379             13366               643   \n",
       "2020-12-21   1071    108    588             14437               751   \n",
       "2020-12-22   3690     57    729             18127               808   \n",
       "2020-12-23   4494     41    733             22621               849   \n",
       "2020-12-24   2040     10    454             24661               859   \n",
       "2020-12-25    966     25    331             25627               884   \n",
       "2020-12-26   1050     29    312             26677               913   \n",
       "2020-12-27   1317     32    428             27994               945   \n",
       "2020-12-28   2935     73    549             30929              1018   \n",
       "2020-12-29   2551     54    664             33480              1072   \n",
       "2020-12-30   2056     56    537             35536              1128   \n",
       "2020-12-31   3097     52    566             38633              1180   \n",
       "2021-01-01   1012     21    337             39645              1201   \n",
       "2021-01-02   1098      8    404             40743              1209   \n",
       "2021-01-03    719      3    341             41462              1212   \n",
       "2021-01-04   1782     10    537             43244              1222   \n",
       "2021-01-05   1445     22    641             44689              1244   \n",
       "2021-01-06   1220     10    923             45909              1254   \n",
       "2021-01-07   1122     16   1041             47031              1270   \n",
       "2021-01-08   1134      5   1358             48165              1275   \n",
       "2021-01-09    464      4    886             48629              1279   \n",
       "2021-01-10    742      6    672             49371              1285   \n",
       "2021-01-11   2513     11    844             51884              1296   \n",
       "2021-01-12   1273     18    799             53157              1314   \n",
       "2021-01-13  11797     16    738             64954              1330   \n",
       "2021-01-14  16050     23   4193             81004              1353   \n",
       "2021-01-15  16038    157   9408             97042              1510   \n",
       "2021-01-16   4730      9   2109            101772              1519   \n",
       "2021-01-17   3832      9   1614            105604              1528   \n",
       "2021-01-18   5860    112   2637            111464              1640   \n",
       "2021-01-19   9986    253   5700            121450              1893   \n",
       "2021-01-20   7716    179   6173            129166              2072   \n",
       "2021-01-21   8988     87   5543            138154              2159   \n",
       "2021-01-22  17342   1120  10039            155496              3279   \n",
       "2021-01-23  10800    151   5972            166296              3430   \n",
       "2021-01-24   3245     29   1383            169541              3459   \n",
       "2021-01-27  41289  28415  18774            210830             31874   \n",
       "2021-01-28  75240  32701  22594            286070             64575   \n",
       "2021-01-29  59986  29956  17943            346056             94531   \n",
       "2021-01-30  42644  24029  10989            388700            118560   \n",
       "2021-01-31  42689  18493   8405            431389            137053   \n",
       "2021-02-01  49206  31592   9870            480595            168645   \n",
       "2021-02-02  44371  21521   6130            524966            190166   \n",
       "2021-02-03   3334   1483    616            528300            191649   \n",
       "\n",
       "            running totalbb  \n",
       "date                         \n",
       "2020-12-08              424  \n",
       "2020-12-09             1337  \n",
       "2020-12-10             2334  \n",
       "2020-12-11             3067  \n",
       "2020-12-12             3744  \n",
       "2020-12-13             4157  \n",
       "2020-12-14             4696  \n",
       "2020-12-15             5232  \n",
       "2020-12-16             5727  \n",
       "2020-12-17             6687  \n",
       "2020-12-18             7642  \n",
       "2020-12-19             8094  \n",
       "2020-12-20             8473  \n",
       "2020-12-21             9061  \n",
       "2020-12-22             9790  \n",
       "2020-12-23            10523  \n",
       "2020-12-24            10977  \n",
       "2020-12-25            11308  \n",
       "2020-12-26            11620  \n",
       "2020-12-27            12048  \n",
       "2020-12-28            12597  \n",
       "2020-12-29            13261  \n",
       "2020-12-30            13798  \n",
       "2020-12-31            14364  \n",
       "2021-01-01            14701  \n",
       "2021-01-02            15105  \n",
       "2021-01-03            15446  \n",
       "2021-01-04            15983  \n",
       "2021-01-05            16624  \n",
       "2021-01-06            17547  \n",
       "2021-01-07            18588  \n",
       "2021-01-08            19946  \n",
       "2021-01-09            20832  \n",
       "2021-01-10            21504  \n",
       "2021-01-11            22348  \n",
       "2021-01-12            23147  \n",
       "2021-01-13            23885  \n",
       "2021-01-14            28078  \n",
       "2021-01-15            37486  \n",
       "2021-01-16            39595  \n",
       "2021-01-17            41209  \n",
       "2021-01-18            43846  \n",
       "2021-01-19            49546  \n",
       "2021-01-20            55719  \n",
       "2021-01-21            61262  \n",
       "2021-01-22            71301  \n",
       "2021-01-23            77273  \n",
       "2021-01-24            78656  \n",
       "2021-01-27            97430  \n",
       "2021-01-28           120024  \n",
       "2021-01-29           137967  \n",
       "2021-01-30           148956  \n",
       "2021-01-31           157361  \n",
       "2021-02-01           167231  \n",
       "2021-02-02           173361  \n",
       "2021-02-03           173977  "
      ],
      "text/html": "<div>\n<style scoped>\n    .dataframe tbody tr th:only-of-type {\n        vertical-align: middle;\n    }\n\n    .dataframe tbody tr th {\n        vertical-align: top;\n    }\n\n    .dataframe thead th {\n        text-align: right;\n    }\n</style>\n<table border=\"1\" class=\"dataframe\">\n  <thead>\n    <tr style=\"text-align: right;\">\n      <th></th>\n      <th>gme</th>\n      <th>amc</th>\n      <th>bb</th>\n      <th>running totalgme</th>\n      <th>running totalamc</th>\n      <th>running totalbb</th>\n    </tr>\n    <tr>\n      <th>date</th>\n      <th></th>\n      <th></th>\n      <th></th>\n      <th></th>\n      <th></th>\n      <th></th>\n    </tr>\n  </thead>\n  <tbody>\n    <tr>\n      <th>2020-12-08</th>\n      <td>2924</td>\n      <td>22</td>\n      <td>424</td>\n      <td>2924</td>\n      <td>22</td>\n      <td>424</td>\n    </tr>\n    <tr>\n      <th>2020-12-09</th>\n      <td>2682</td>\n      <td>12</td>\n      <td>913</td>\n      <td>5606</td>\n      <td>34</td>\n      <td>1337</td>\n    </tr>\n    <tr>\n      <th>2020-12-10</th>\n      <td>946</td>\n      <td>34</td>\n      <td>997</td>\n      <td>6552</td>\n      <td>68</td>\n      <td>2334</td>\n    </tr>\n    <tr>\n      <th>2020-12-11</th>\n      <td>599</td>\n      <td>38</td>\n      <td>733</td>\n      <td>7151</td>\n      <td>106</td>\n      <td>3067</td>\n    </tr>\n    <tr>\n      <th>2020-12-12</th>\n      <td>348</td>\n      <td>46</td>\n      <td>677</td>\n      <td>7499</td>\n      <td>152</td>\n      <td>3744</td>\n    </tr>\n    <tr>\n      <th>2020-12-13</th>\n      <td>470</td>\n      <td>20</td>\n      <td>413</td>\n      <td>7969</td>\n      <td>172</td>\n      <td>4157</td>\n    </tr>\n    <tr>\n      <th>2020-12-14</th>\n      <td>1025</td>\n      <td>79</td>\n      <td>539</td>\n      <td>8994</td>\n      <td>251</td>\n      <td>4696</td>\n    </tr>\n    <tr>\n      <th>2020-12-15</th>\n      <td>1123</td>\n      <td>109</td>\n      <td>536</td>\n      <td>10117</td>\n      <td>360</td>\n      <td>5232</td>\n    </tr>\n    <tr>\n      <th>2020-12-16</th>\n      <td>587</td>\n      <td>110</td>\n      <td>495</td>\n      <td>10704</td>\n      <td>470</td>\n      <td>5727</td>\n    </tr>\n    <tr>\n      <th>2020-12-17</th>\n      <td>763</td>\n      <td>107</td>\n      <td>960</td>\n      <td>11467</td>\n      <td>577</td>\n      <td>6687</td>\n    </tr>\n    <tr>\n      <th>2020-12-18</th>\n      <td>1165</td>\n      <td>37</td>\n      <td>955</td>\n      <td>12632</td>\n      <td>614</td>\n      <td>7642</td>\n    </tr>\n    <tr>\n      <th>2020-12-19</th>\n      <td>365</td>\n      <td>17</td>\n      <td>452</td>\n      <td>12997</td>\n      <td>631</td>\n      <td>8094</td>\n    </tr>\n    <tr>\n      <th>2020-12-20</th>\n      <td>369</td>\n      <td>12</td>\n      <td>379</td>\n      <td>13366</td>\n      <td>643</td>\n      <td>8473</td>\n    </tr>\n    <tr>\n      <th>2020-12-21</th>\n      <td>1071</td>\n      <td>108</td>\n      <td>588</td>\n      <td>14437</td>\n      <td>751</td>\n      <td>9061</td>\n    </tr>\n    <tr>\n      <th>2020-12-22</th>\n      <td>3690</td>\n      <td>57</td>\n      <td>729</td>\n      <td>18127</td>\n      <td>808</td>\n      <td>9790</td>\n    </tr>\n    <tr>\n      <th>2020-12-23</th>\n      <td>4494</td>\n      <td>41</td>\n      <td>733</td>\n      <td>22621</td>\n      <td>849</td>\n      <td>10523</td>\n    </tr>\n    <tr>\n      <th>2020-12-24</th>\n      <td>2040</td>\n      <td>10</td>\n      <td>454</td>\n      <td>24661</td>\n      <td>859</td>\n      <td>10977</td>\n    </tr>\n    <tr>\n      <th>2020-12-25</th>\n      <td>966</td>\n      <td>25</td>\n      <td>331</td>\n      <td>25627</td>\n      <td>884</td>\n      <td>11308</td>\n    </tr>\n    <tr>\n      <th>2020-12-26</th>\n      <td>1050</td>\n      <td>29</td>\n      <td>312</td>\n      <td>26677</td>\n      <td>913</td>\n      <td>11620</td>\n    </tr>\n    <tr>\n      <th>2020-12-27</th>\n      <td>1317</td>\n      <td>32</td>\n      <td>428</td>\n      <td>27994</td>\n      <td>945</td>\n      <td>12048</td>\n    </tr>\n    <tr>\n      <th>2020-12-28</th>\n      <td>2935</td>\n      <td>73</td>\n      <td>549</td>\n      <td>30929</td>\n      <td>1018</td>\n      <td>12597</td>\n    </tr>\n    <tr>\n      <th>2020-12-29</th>\n      <td>2551</td>\n      <td>54</td>\n      <td>664</td>\n      <td>33480</td>\n      <td>1072</td>\n      <td>13261</td>\n    </tr>\n    <tr>\n      <th>2020-12-30</th>\n      <td>2056</td>\n      <td>56</td>\n      <td>537</td>\n      <td>35536</td>\n      <td>1128</td>\n      <td>13798</td>\n    </tr>\n    <tr>\n      <th>2020-12-31</th>\n      <td>3097</td>\n      <td>52</td>\n      <td>566</td>\n      <td>38633</td>\n      <td>1180</td>\n      <td>14364</td>\n    </tr>\n    <tr>\n      <th>2021-01-01</th>\n      <td>1012</td>\n      <td>21</td>\n      <td>337</td>\n      <td>39645</td>\n      <td>1201</td>\n      <td>14701</td>\n    </tr>\n    <tr>\n      <th>2021-01-02</th>\n      <td>1098</td>\n      <td>8</td>\n      <td>404</td>\n      <td>40743</td>\n      <td>1209</td>\n      <td>15105</td>\n    </tr>\n    <tr>\n      <th>2021-01-03</th>\n      <td>719</td>\n      <td>3</td>\n      <td>341</td>\n      <td>41462</td>\n      <td>1212</td>\n      <td>15446</td>\n    </tr>\n    <tr>\n      <th>2021-01-04</th>\n      <td>1782</td>\n      <td>10</td>\n      <td>537</td>\n      <td>43244</td>\n      <td>1222</td>\n      <td>15983</td>\n    </tr>\n    <tr>\n      <th>2021-01-05</th>\n      <td>1445</td>\n      <td>22</td>\n      <td>641</td>\n      <td>44689</td>\n      <td>1244</td>\n      <td>16624</td>\n    </tr>\n    <tr>\n      <th>2021-01-06</th>\n      <td>1220</td>\n      <td>10</td>\n      <td>923</td>\n      <td>45909</td>\n      <td>1254</td>\n      <td>17547</td>\n    </tr>\n    <tr>\n      <th>2021-01-07</th>\n      <td>1122</td>\n      <td>16</td>\n      <td>1041</td>\n      <td>47031</td>\n      <td>1270</td>\n      <td>18588</td>\n    </tr>\n    <tr>\n      <th>2021-01-08</th>\n      <td>1134</td>\n      <td>5</td>\n      <td>1358</td>\n      <td>48165</td>\n      <td>1275</td>\n      <td>19946</td>\n    </tr>\n    <tr>\n      <th>2021-01-09</th>\n      <td>464</td>\n      <td>4</td>\n      <td>886</td>\n      <td>48629</td>\n      <td>1279</td>\n      <td>20832</td>\n    </tr>\n    <tr>\n      <th>2021-01-10</th>\n      <td>742</td>\n      <td>6</td>\n      <td>672</td>\n      <td>49371</td>\n      <td>1285</td>\n      <td>21504</td>\n    </tr>\n    <tr>\n      <th>2021-01-11</th>\n      <td>2513</td>\n      <td>11</td>\n      <td>844</td>\n      <td>51884</td>\n      <td>1296</td>\n      <td>22348</td>\n    </tr>\n    <tr>\n      <th>2021-01-12</th>\n      <td>1273</td>\n      <td>18</td>\n      <td>799</td>\n      <td>53157</td>\n      <td>1314</td>\n      <td>23147</td>\n    </tr>\n    <tr>\n      <th>2021-01-13</th>\n      <td>11797</td>\n      <td>16</td>\n      <td>738</td>\n      <td>64954</td>\n      <td>1330</td>\n      <td>23885</td>\n    </tr>\n    <tr>\n      <th>2021-01-14</th>\n      <td>16050</td>\n      <td>23</td>\n      <td>4193</td>\n      <td>81004</td>\n      <td>1353</td>\n      <td>28078</td>\n    </tr>\n    <tr>\n      <th>2021-01-15</th>\n      <td>16038</td>\n      <td>157</td>\n      <td>9408</td>\n      <td>97042</td>\n      <td>1510</td>\n      <td>37486</td>\n    </tr>\n    <tr>\n      <th>2021-01-16</th>\n      <td>4730</td>\n      <td>9</td>\n      <td>2109</td>\n      <td>101772</td>\n      <td>1519</td>\n      <td>39595</td>\n    </tr>\n    <tr>\n      <th>2021-01-17</th>\n      <td>3832</td>\n      <td>9</td>\n      <td>1614</td>\n      <td>105604</td>\n      <td>1528</td>\n      <td>41209</td>\n    </tr>\n    <tr>\n      <th>2021-01-18</th>\n      <td>5860</td>\n      <td>112</td>\n      <td>2637</td>\n      <td>111464</td>\n      <td>1640</td>\n      <td>43846</td>\n    </tr>\n    <tr>\n      <th>2021-01-19</th>\n      <td>9986</td>\n      <td>253</td>\n      <td>5700</td>\n      <td>121450</td>\n      <td>1893</td>\n      <td>49546</td>\n    </tr>\n    <tr>\n      <th>2021-01-20</th>\n      <td>7716</td>\n      <td>179</td>\n      <td>6173</td>\n      <td>129166</td>\n      <td>2072</td>\n      <td>55719</td>\n    </tr>\n    <tr>\n      <th>2021-01-21</th>\n      <td>8988</td>\n      <td>87</td>\n      <td>5543</td>\n      <td>138154</td>\n      <td>2159</td>\n      <td>61262</td>\n    </tr>\n    <tr>\n      <th>2021-01-22</th>\n      <td>17342</td>\n      <td>1120</td>\n      <td>10039</td>\n      <td>155496</td>\n      <td>3279</td>\n      <td>71301</td>\n    </tr>\n    <tr>\n      <th>2021-01-23</th>\n      <td>10800</td>\n      <td>151</td>\n      <td>5972</td>\n      <td>166296</td>\n      <td>3430</td>\n      <td>77273</td>\n    </tr>\n    <tr>\n      <th>2021-01-24</th>\n      <td>3245</td>\n      <td>29</td>\n      <td>1383</td>\n      <td>169541</td>\n      <td>3459</td>\n      <td>78656</td>\n    </tr>\n    <tr>\n      <th>2021-01-27</th>\n      <td>41289</td>\n      <td>28415</td>\n      <td>18774</td>\n      <td>210830</td>\n      <td>31874</td>\n      <td>97430</td>\n    </tr>\n    <tr>\n      <th>2021-01-28</th>\n      <td>75240</td>\n      <td>32701</td>\n      <td>22594</td>\n      <td>286070</td>\n      <td>64575</td>\n      <td>120024</td>\n    </tr>\n    <tr>\n      <th>2021-01-29</th>\n      <td>59986</td>\n      <td>29956</td>\n      <td>17943</td>\n      <td>346056</td>\n      <td>94531</td>\n      <td>137967</td>\n    </tr>\n    <tr>\n      <th>2021-01-30</th>\n      <td>42644</td>\n      <td>24029</td>\n      <td>10989</td>\n      <td>388700</td>\n      <td>118560</td>\n      <td>148956</td>\n    </tr>\n    <tr>\n      <th>2021-01-31</th>\n      <td>42689</td>\n      <td>18493</td>\n      <td>8405</td>\n      <td>431389</td>\n      <td>137053</td>\n      <td>157361</td>\n    </tr>\n    <tr>\n      <th>2021-02-01</th>\n      <td>49206</td>\n      <td>31592</td>\n      <td>9870</td>\n      <td>480595</td>\n      <td>168645</td>\n      <td>167231</td>\n    </tr>\n    <tr>\n      <th>2021-02-02</th>\n      <td>44371</td>\n      <td>21521</td>\n      <td>6130</td>\n      <td>524966</td>\n      <td>190166</td>\n      <td>173361</td>\n    </tr>\n    <tr>\n      <th>2021-02-03</th>\n      <td>3334</td>\n      <td>1483</td>\n      <td>616</td>\n      <td>528300</td>\n      <td>191649</td>\n      <td>173977</td>\n    </tr>\n  </tbody>\n</table>\n</div>"
     },
     "metadata": {},
     "execution_count": 18
    }
   ],
   "source": [
    "comment_agg_df"
   ]
  },
  {
   "cell_type": "code",
   "execution_count": 37,
   "metadata": {},
   "outputs": [],
   "source": [
    "comment_agg_df.to_csv(path_or_buf='/Users/gregfinin/Project/comments_df_agg.csv',index=False)"
   ]
  },
  {
   "cell_type": "code",
   "execution_count": 38,
   "metadata": {},
   "outputs": [],
   "source": [
    "ticker_names = []\n",
    "ticker_counts = []"
   ]
  },
  {
   "cell_type": "code",
   "execution_count": 40,
   "metadata": {},
   "outputs": [],
   "source": [
    "for ticker in ticker_tester:\n",
    "    count = cleaned_df['body'].str.contains(rf\"\\s({ticker})\\s\", flags=re.IGNORECASE, regex=True).sum()\n",
    "    ticker_names.append(ticker)\n",
    "    ticker_counts.append(count)\n"
   ]
  },
  {
   "cell_type": "code",
   "execution_count": 43,
   "metadata": {},
   "outputs": [
    {
     "output_type": "execute_result",
     "data": {
      "text/plain": [
       "     0   count\n",
       "0  gme  318190\n",
       "1  amc  103203\n",
       "2   bb   62630"
      ],
      "text/html": "<div>\n<style scoped>\n    .dataframe tbody tr th:only-of-type {\n        vertical-align: middle;\n    }\n\n    .dataframe tbody tr th {\n        vertical-align: top;\n    }\n\n    .dataframe thead th {\n        text-align: right;\n    }\n</style>\n<table border=\"1\" class=\"dataframe\">\n  <thead>\n    <tr style=\"text-align: right;\">\n      <th></th>\n      <th>0</th>\n      <th>count</th>\n    </tr>\n  </thead>\n  <tbody>\n    <tr>\n      <th>0</th>\n      <td>gme</td>\n      <td>318190</td>\n    </tr>\n    <tr>\n      <th>1</th>\n      <td>amc</td>\n      <td>103203</td>\n    </tr>\n    <tr>\n      <th>2</th>\n      <td>bb</td>\n      <td>62630</td>\n    </tr>\n  </tbody>\n</table>\n</div>"
     },
     "metadata": {},
     "execution_count": 43
    }
   ],
   "source": [
    "ticker_count_df = pd.DataFrame(ticker_names)\n",
    "ticker_count_df['count'] = ticker_counts\n",
    "ticker_count_df"
   ]
  },
  {
   "cell_type": "code",
   "execution_count": 45,
   "metadata": {},
   "outputs": [],
   "source": [
    "ticker_count_df.to_csv(path_or_buf='/Users/gregfinin/Project/total_comments_df_agg.csv',index=False)"
   ]
  },
  {
   "cell_type": "code",
   "execution_count": null,
   "metadata": {},
   "outputs": [],
   "source": []
  }
 ],
 "metadata": {
  "kernelspec": {
   "display_name": "mlenv",
   "language": "python",
   "name": "mlenv"
  },
  "language_info": {
   "codemirror_mode": {
    "name": "ipython",
    "version": 3
   },
   "file_extension": ".py",
   "mimetype": "text/x-python",
   "name": "python",
   "nbconvert_exporter": "python",
   "pygments_lexer": "ipython3",
   "version": "3.7.9-final"
  }
 },
 "nbformat": 4,
 "nbformat_minor": 4
}