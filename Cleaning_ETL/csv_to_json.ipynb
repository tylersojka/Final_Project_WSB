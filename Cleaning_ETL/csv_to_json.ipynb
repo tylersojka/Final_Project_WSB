{
 "metadata": {
  "language_info": {
   "codemirror_mode": {
    "name": "ipython",
    "version": 3
   },
   "file_extension": ".py",
   "mimetype": "text/x-python",
   "name": "python",
   "nbconvert_exporter": "python",
   "pygments_lexer": "ipython3",
   "version": "3.9.1-final"
  },
  "orig_nbformat": 2,
  "kernelspec": {
   "name": "python3",
   "display_name": "Python 3.9.1 64-bit",
   "metadata": {
    "interpreter": {
     "hash": "6754a6617df1a1e351c56952c405f68c09e20daf01d2b04a145e23b0d98d34a4"
    }
   }
  }
 },
 "nbformat": 4,
 "nbformat_minor": 2,
 "cells": [
  {
   "cell_type": "code",
   "execution_count": 2,
   "metadata": {},
   "outputs": [],
   "source": [
    "import pandas as pd"
   ]
  },
  {
   "cell_type": "code",
   "execution_count": 3,
   "metadata": {},
   "outputs": [],
   "source": [
    "price_mentions_data = pd.read_csv('../Data/mentions_price_by_day.csv')"
   ]
  },
  {
   "cell_type": "code",
   "execution_count": 4,
   "metadata": {},
   "outputs": [
    {
     "output_type": "execute_result",
     "data": {
      "text/plain": [
       "            date Unnamed: 1   Adj Close       Close        High         Low  \\\n",
       "0     2020-12-08        AAL   17.629999   17.629999   17.920000   17.160000   \n",
       "1     2020-12-08       AAPL  124.194412  124.379997  124.980003  123.089996   \n",
       "2     2020-12-08       ALOT   11.680000   11.680000   11.740000   11.500000   \n",
       "3     2020-12-08        AMC    3.980000    3.980000    4.020000    3.610000   \n",
       "4     2020-12-08       AMCX   31.070000   31.070000   32.139999   30.889999   \n",
       "...          ...        ...         ...         ...         ...         ...   \n",
       "4833  2021-02-04       TRHC   53.450001   53.450001   54.490002   52.770000   \n",
       "4834  2021-02-04       TRIT    6.920000    6.920000    7.160000    6.900000   \n",
       "4835  2021-02-04       TSLA  849.989990  849.989990  856.500000  833.419983   \n",
       "4836  2021-02-04       VXRT    9.050000    9.050000   10.500000    8.910000   \n",
       "4837  2021-02-04       ZYXI   18.160000   18.160000   18.980000   17.910000   \n",
       "\n",
       "            Open      Volume  mentions  \n",
       "0      17.469999  95855400.0      21.0  \n",
       "1     124.370003  82225500.0      88.0  \n",
       "2      11.520000     27100.0       4.0  \n",
       "3       3.610000  29530600.0      11.0  \n",
       "4      31.280001    591300.0       0.0  \n",
       "...          ...         ...       ...  \n",
       "4833   54.290001    331900.0       0.0  \n",
       "4834    7.150000   4005300.0       0.0  \n",
       "4835  855.000000  15812700.0       0.0  \n",
       "4836    9.940000  37896600.0       0.0  \n",
       "4837   18.910000    559300.0       0.0  \n",
       "\n",
       "[4838 rows x 9 columns]"
      ],
      "text/html": "<div>\n<style scoped>\n    .dataframe tbody tr th:only-of-type {\n        vertical-align: middle;\n    }\n\n    .dataframe tbody tr th {\n        vertical-align: top;\n    }\n\n    .dataframe thead th {\n        text-align: right;\n    }\n</style>\n<table border=\"1\" class=\"dataframe\">\n  <thead>\n    <tr style=\"text-align: right;\">\n      <th></th>\n      <th>date</th>\n      <th>Unnamed: 1</th>\n      <th>Adj Close</th>\n      <th>Close</th>\n      <th>High</th>\n      <th>Low</th>\n      <th>Open</th>\n      <th>Volume</th>\n      <th>mentions</th>\n    </tr>\n  </thead>\n  <tbody>\n    <tr>\n      <th>0</th>\n      <td>2020-12-08</td>\n      <td>AAL</td>\n      <td>17.629999</td>\n      <td>17.629999</td>\n      <td>17.920000</td>\n      <td>17.160000</td>\n      <td>17.469999</td>\n      <td>95855400.0</td>\n      <td>21.0</td>\n    </tr>\n    <tr>\n      <th>1</th>\n      <td>2020-12-08</td>\n      <td>AAPL</td>\n      <td>124.194412</td>\n      <td>124.379997</td>\n      <td>124.980003</td>\n      <td>123.089996</td>\n      <td>124.370003</td>\n      <td>82225500.0</td>\n      <td>88.0</td>\n    </tr>\n    <tr>\n      <th>2</th>\n      <td>2020-12-08</td>\n      <td>ALOT</td>\n      <td>11.680000</td>\n      <td>11.680000</td>\n      <td>11.740000</td>\n      <td>11.500000</td>\n      <td>11.520000</td>\n      <td>27100.0</td>\n      <td>4.0</td>\n    </tr>\n    <tr>\n      <th>3</th>\n      <td>2020-12-08</td>\n      <td>AMC</td>\n      <td>3.980000</td>\n      <td>3.980000</td>\n      <td>4.020000</td>\n      <td>3.610000</td>\n      <td>3.610000</td>\n      <td>29530600.0</td>\n      <td>11.0</td>\n    </tr>\n    <tr>\n      <th>4</th>\n      <td>2020-12-08</td>\n      <td>AMCX</td>\n      <td>31.070000</td>\n      <td>31.070000</td>\n      <td>32.139999</td>\n      <td>30.889999</td>\n      <td>31.280001</td>\n      <td>591300.0</td>\n      <td>0.0</td>\n    </tr>\n    <tr>\n      <th>...</th>\n      <td>...</td>\n      <td>...</td>\n      <td>...</td>\n      <td>...</td>\n      <td>...</td>\n      <td>...</td>\n      <td>...</td>\n      <td>...</td>\n      <td>...</td>\n    </tr>\n    <tr>\n      <th>4833</th>\n      <td>2021-02-04</td>\n      <td>TRHC</td>\n      <td>53.450001</td>\n      <td>53.450001</td>\n      <td>54.490002</td>\n      <td>52.770000</td>\n      <td>54.290001</td>\n      <td>331900.0</td>\n      <td>0.0</td>\n    </tr>\n    <tr>\n      <th>4834</th>\n      <td>2021-02-04</td>\n      <td>TRIT</td>\n      <td>6.920000</td>\n      <td>6.920000</td>\n      <td>7.160000</td>\n      <td>6.900000</td>\n      <td>7.150000</td>\n      <td>4005300.0</td>\n      <td>0.0</td>\n    </tr>\n    <tr>\n      <th>4835</th>\n      <td>2021-02-04</td>\n      <td>TSLA</td>\n      <td>849.989990</td>\n      <td>849.989990</td>\n      <td>856.500000</td>\n      <td>833.419983</td>\n      <td>855.000000</td>\n      <td>15812700.0</td>\n      <td>0.0</td>\n    </tr>\n    <tr>\n      <th>4836</th>\n      <td>2021-02-04</td>\n      <td>VXRT</td>\n      <td>9.050000</td>\n      <td>9.050000</td>\n      <td>10.500000</td>\n      <td>8.910000</td>\n      <td>9.940000</td>\n      <td>37896600.0</td>\n      <td>0.0</td>\n    </tr>\n    <tr>\n      <th>4837</th>\n      <td>2021-02-04</td>\n      <td>ZYXI</td>\n      <td>18.160000</td>\n      <td>18.160000</td>\n      <td>18.980000</td>\n      <td>17.910000</td>\n      <td>18.910000</td>\n      <td>559300.0</td>\n      <td>0.0</td>\n    </tr>\n  </tbody>\n</table>\n<p>4838 rows × 9 columns</p>\n</div>"
     },
     "metadata": {},
     "execution_count": 4
    }
   ],
   "source": [
    "price_mentions_data"
   ]
  },
  {
   "cell_type": "code",
   "execution_count": 18,
   "metadata": {},
   "outputs": [],
   "source": [
    "\n",
    "price_mentions_data.rename(columns={'Unnamed: 1':\"Ticker\"}, inplace=True)\n",
    "# new_df = price_mentions_data.set_index('Ticker').sort_index().sort_values(by=['Ticker','date'])\n",
    "new_df = price_mentions_data.set_index(\"date\").sort_values(by=['Ticker','date'])\n",
    "new_df['Volume'] = new_df['Volume'].fillna(value=0)\n",
    "new_df = new_df.fillna(method='ffill')"
   ]
  },
  {
   "cell_type": "code",
   "execution_count": 19,
   "metadata": {},
   "outputs": [
    {
     "output_type": "execute_result",
     "data": {
      "text/plain": [
       "           Ticker  Adj Close      Close       High        Low       Open  \\\n",
       "date                                                                       \n",
       "2020-12-08    AAL  17.629999  17.629999  17.920000  17.160000  17.469999   \n",
       "2020-12-09    AAL  17.160000  17.160000  18.629999  16.629999  18.370001   \n",
       "2020-12-10    AAL  17.990000  17.990000  18.040001  16.670000  16.750000   \n",
       "2020-12-11    AAL  17.049999  17.049999  17.910000  16.809999  17.820000   \n",
       "2020-12-12    AAL  17.049999  17.049999  17.910000  16.809999  17.820000   \n",
       "...           ...        ...        ...        ...        ...        ...   \n",
       "2021-01-31   ZYXI  18.070000  18.070000  20.219999  18.010000  19.830000   \n",
       "2021-02-01   ZYXI  18.170000  18.170000  18.750000  17.500000  18.600000   \n",
       "2021-02-02   ZYXI  19.510000  19.510000  19.660000  18.049999  18.350000   \n",
       "2021-02-03   ZYXI  18.709999  18.709999  19.639999  18.610001  19.540001   \n",
       "2021-02-04   ZYXI  18.160000  18.160000  18.980000  17.910000  18.910000   \n",
       "\n",
       "                 Volume  mentions  \n",
       "date                               \n",
       "2020-12-08   95855400.0      21.0  \n",
       "2020-12-09  138508300.0      41.0  \n",
       "2020-12-10   86395200.0      76.0  \n",
       "2020-12-11  106957300.0      74.0  \n",
       "2020-12-12          0.0      31.0  \n",
       "...                 ...       ...  \n",
       "2021-01-31          0.0       0.0  \n",
       "2021-02-01     556800.0       1.0  \n",
       "2021-02-02     734600.0       0.0  \n",
       "2021-02-03     414900.0       0.0  \n",
       "2021-02-04     559300.0       0.0  \n",
       "\n",
       "[4838 rows x 8 columns]"
      ],
      "text/html": "<div>\n<style scoped>\n    .dataframe tbody tr th:only-of-type {\n        vertical-align: middle;\n    }\n\n    .dataframe tbody tr th {\n        vertical-align: top;\n    }\n\n    .dataframe thead th {\n        text-align: right;\n    }\n</style>\n<table border=\"1\" class=\"dataframe\">\n  <thead>\n    <tr style=\"text-align: right;\">\n      <th></th>\n      <th>Ticker</th>\n      <th>Adj Close</th>\n      <th>Close</th>\n      <th>High</th>\n      <th>Low</th>\n      <th>Open</th>\n      <th>Volume</th>\n      <th>mentions</th>\n    </tr>\n    <tr>\n      <th>date</th>\n      <th></th>\n      <th></th>\n      <th></th>\n      <th></th>\n      <th></th>\n      <th></th>\n      <th></th>\n      <th></th>\n    </tr>\n  </thead>\n  <tbody>\n    <tr>\n      <th>2020-12-08</th>\n      <td>AAL</td>\n      <td>17.629999</td>\n      <td>17.629999</td>\n      <td>17.920000</td>\n      <td>17.160000</td>\n      <td>17.469999</td>\n      <td>95855400.0</td>\n      <td>21.0</td>\n    </tr>\n    <tr>\n      <th>2020-12-09</th>\n      <td>AAL</td>\n      <td>17.160000</td>\n      <td>17.160000</td>\n      <td>18.629999</td>\n      <td>16.629999</td>\n      <td>18.370001</td>\n      <td>138508300.0</td>\n      <td>41.0</td>\n    </tr>\n    <tr>\n      <th>2020-12-10</th>\n      <td>AAL</td>\n      <td>17.990000</td>\n      <td>17.990000</td>\n      <td>18.040001</td>\n      <td>16.670000</td>\n      <td>16.750000</td>\n      <td>86395200.0</td>\n      <td>76.0</td>\n    </tr>\n    <tr>\n      <th>2020-12-11</th>\n      <td>AAL</td>\n      <td>17.049999</td>\n      <td>17.049999</td>\n      <td>17.910000</td>\n      <td>16.809999</td>\n      <td>17.820000</td>\n      <td>106957300.0</td>\n      <td>74.0</td>\n    </tr>\n    <tr>\n      <th>2020-12-12</th>\n      <td>AAL</td>\n      <td>17.049999</td>\n      <td>17.049999</td>\n      <td>17.910000</td>\n      <td>16.809999</td>\n      <td>17.820000</td>\n      <td>0.0</td>\n      <td>31.0</td>\n    </tr>\n    <tr>\n      <th>...</th>\n      <td>...</td>\n      <td>...</td>\n      <td>...</td>\n      <td>...</td>\n      <td>...</td>\n      <td>...</td>\n      <td>...</td>\n      <td>...</td>\n    </tr>\n    <tr>\n      <th>2021-01-31</th>\n      <td>ZYXI</td>\n      <td>18.070000</td>\n      <td>18.070000</td>\n      <td>20.219999</td>\n      <td>18.010000</td>\n      <td>19.830000</td>\n      <td>0.0</td>\n      <td>0.0</td>\n    </tr>\n    <tr>\n      <th>2021-02-01</th>\n      <td>ZYXI</td>\n      <td>18.170000</td>\n      <td>18.170000</td>\n      <td>18.750000</td>\n      <td>17.500000</td>\n      <td>18.600000</td>\n      <td>556800.0</td>\n      <td>1.0</td>\n    </tr>\n    <tr>\n      <th>2021-02-02</th>\n      <td>ZYXI</td>\n      <td>19.510000</td>\n      <td>19.510000</td>\n      <td>19.660000</td>\n      <td>18.049999</td>\n      <td>18.350000</td>\n      <td>734600.0</td>\n      <td>0.0</td>\n    </tr>\n    <tr>\n      <th>2021-02-03</th>\n      <td>ZYXI</td>\n      <td>18.709999</td>\n      <td>18.709999</td>\n      <td>19.639999</td>\n      <td>18.610001</td>\n      <td>19.540001</td>\n      <td>414900.0</td>\n      <td>0.0</td>\n    </tr>\n    <tr>\n      <th>2021-02-04</th>\n      <td>ZYXI</td>\n      <td>18.160000</td>\n      <td>18.160000</td>\n      <td>18.980000</td>\n      <td>17.910000</td>\n      <td>18.910000</td>\n      <td>559300.0</td>\n      <td>0.0</td>\n    </tr>\n  </tbody>\n</table>\n<p>4838 rows × 8 columns</p>\n</div>"
     },
     "metadata": {},
     "execution_count": 19
    }
   ],
   "source": [
    "new_df"
   ]
  },
  {
   "cell_type": "code",
   "execution_count": 21,
   "metadata": {},
   "outputs": [],
   "source": [
    "new_df.to_csv('../Data/price_mentions_dateindex.csv')"
   ]
  },
  {
   "cell_type": "code",
   "execution_count": 8,
   "metadata": {},
   "outputs": [],
   "source": [
    "tickers = pd.read_csv(\"../Data/final_ticker_list.csv\")"
   ]
  },
  {
   "cell_type": "code",
   "execution_count": 9,
   "metadata": {},
   "outputs": [
    {
     "output_type": "execute_result",
     "data": {
      "text/plain": [
       "   Tickers\n",
       "0      AMC\n",
       "1     PUBM\n",
       "2     GOGO\n",
       "3     ISUN\n",
       "4     CLVS\n",
       "..     ...\n",
       "77    TLRY\n",
       "78     BRO\n",
       "79    CRSR\n",
       "80    IBKR\n",
       "81     BIO\n",
       "\n",
       "[82 rows x 1 columns]"
      ],
      "text/html": "<div>\n<style scoped>\n    .dataframe tbody tr th:only-of-type {\n        vertical-align: middle;\n    }\n\n    .dataframe tbody tr th {\n        vertical-align: top;\n    }\n\n    .dataframe thead th {\n        text-align: right;\n    }\n</style>\n<table border=\"1\" class=\"dataframe\">\n  <thead>\n    <tr style=\"text-align: right;\">\n      <th></th>\n      <th>Tickers</th>\n    </tr>\n  </thead>\n  <tbody>\n    <tr>\n      <th>0</th>\n      <td>AMC</td>\n    </tr>\n    <tr>\n      <th>1</th>\n      <td>PUBM</td>\n    </tr>\n    <tr>\n      <th>2</th>\n      <td>GOGO</td>\n    </tr>\n    <tr>\n      <th>3</th>\n      <td>ISUN</td>\n    </tr>\n    <tr>\n      <th>4</th>\n      <td>CLVS</td>\n    </tr>\n    <tr>\n      <th>...</th>\n      <td>...</td>\n    </tr>\n    <tr>\n      <th>77</th>\n      <td>TLRY</td>\n    </tr>\n    <tr>\n      <th>78</th>\n      <td>BRO</td>\n    </tr>\n    <tr>\n      <th>79</th>\n      <td>CRSR</td>\n    </tr>\n    <tr>\n      <th>80</th>\n      <td>IBKR</td>\n    </tr>\n    <tr>\n      <th>81</th>\n      <td>BIO</td>\n    </tr>\n  </tbody>\n</table>\n<p>82 rows × 1 columns</p>\n</div>"
     },
     "metadata": {},
     "execution_count": 9
    }
   ],
   "source": [
    "tickers"
   ]
  },
  {
   "cell_type": "code",
   "execution_count": 10,
   "metadata": {},
   "outputs": [],
   "source": [
    "tickers.to_json(\"../Data/tickerlist.json\")"
   ]
  },
  {
   "cell_type": "code",
   "execution_count": 7,
   "metadata": {},
   "outputs": [
    {
     "output_type": "execute_result",
     "data": {
      "text/plain": [
       "           date Ticker  Adj Close      Close       High        Low       Open  \\\n",
       "0    2020-12-08    AAL  17.629999  17.629999  17.920000  17.160000  17.469999   \n",
       "82   2020-12-09    AAL  17.160000  17.160000  18.629999  16.629999  18.370001   \n",
       "164  2020-12-10    AAL  17.990000  17.990000  18.040001  16.670000  16.750000   \n",
       "246  2020-12-11    AAL  17.049999  17.049999  17.910000  16.809999  17.820000   \n",
       "328  2020-12-12    AAL  17.049999  17.049999  17.910000  16.809999  17.820000   \n",
       "...         ...    ...        ...        ...        ...        ...        ...   \n",
       "4509 2021-01-31   ZYXI  18.070000  18.070000  20.219999  18.010000  19.830000   \n",
       "4591 2021-02-01   ZYXI  18.170000  18.170000  18.750000  17.500000  18.600000   \n",
       "4673 2021-02-02   ZYXI  19.510000  19.510000  19.660000  18.049999  18.350000   \n",
       "4755 2021-02-03   ZYXI  18.709999  18.709999  19.639999  18.610001  19.540001   \n",
       "4837 2021-02-04   ZYXI  18.160000  18.160000  18.980000  17.910000  18.910000   \n",
       "\n",
       "         Volume  mentions  \n",
       "0      95855400        21  \n",
       "82    138508300        41  \n",
       "164    86395200        76  \n",
       "246   106957300        74  \n",
       "328           0        31  \n",
       "...         ...       ...  \n",
       "4509          0         0  \n",
       "4591     556800         1  \n",
       "4673     734600         0  \n",
       "4755     414900         0  \n",
       "4837     559300         0  \n",
       "\n",
       "[4838 rows x 9 columns]"
      ],
      "text/html": "<div>\n<style scoped>\n    .dataframe tbody tr th:only-of-type {\n        vertical-align: middle;\n    }\n\n    .dataframe tbody tr th {\n        vertical-align: top;\n    }\n\n    .dataframe thead th {\n        text-align: right;\n    }\n</style>\n<table border=\"1\" class=\"dataframe\">\n  <thead>\n    <tr style=\"text-align: right;\">\n      <th></th>\n      <th>date</th>\n      <th>Ticker</th>\n      <th>Adj Close</th>\n      <th>Close</th>\n      <th>High</th>\n      <th>Low</th>\n      <th>Open</th>\n      <th>Volume</th>\n      <th>mentions</th>\n    </tr>\n  </thead>\n  <tbody>\n    <tr>\n      <th>0</th>\n      <td>2020-12-08</td>\n      <td>AAL</td>\n      <td>17.629999</td>\n      <td>17.629999</td>\n      <td>17.920000</td>\n      <td>17.160000</td>\n      <td>17.469999</td>\n      <td>95855400</td>\n      <td>21</td>\n    </tr>\n    <tr>\n      <th>82</th>\n      <td>2020-12-09</td>\n      <td>AAL</td>\n      <td>17.160000</td>\n      <td>17.160000</td>\n      <td>18.629999</td>\n      <td>16.629999</td>\n      <td>18.370001</td>\n      <td>138508300</td>\n      <td>41</td>\n    </tr>\n    <tr>\n      <th>164</th>\n      <td>2020-12-10</td>\n      <td>AAL</td>\n      <td>17.990000</td>\n      <td>17.990000</td>\n      <td>18.040001</td>\n      <td>16.670000</td>\n      <td>16.750000</td>\n      <td>86395200</td>\n      <td>76</td>\n    </tr>\n    <tr>\n      <th>246</th>\n      <td>2020-12-11</td>\n      <td>AAL</td>\n      <td>17.049999</td>\n      <td>17.049999</td>\n      <td>17.910000</td>\n      <td>16.809999</td>\n      <td>17.820000</td>\n      <td>106957300</td>\n      <td>74</td>\n    </tr>\n    <tr>\n      <th>328</th>\n      <td>2020-12-12</td>\n      <td>AAL</td>\n      <td>17.049999</td>\n      <td>17.049999</td>\n      <td>17.910000</td>\n      <td>16.809999</td>\n      <td>17.820000</td>\n      <td>0</td>\n      <td>31</td>\n    </tr>\n    <tr>\n      <th>...</th>\n      <td>...</td>\n      <td>...</td>\n      <td>...</td>\n      <td>...</td>\n      <td>...</td>\n      <td>...</td>\n      <td>...</td>\n      <td>...</td>\n      <td>...</td>\n    </tr>\n    <tr>\n      <th>4509</th>\n      <td>2021-01-31</td>\n      <td>ZYXI</td>\n      <td>18.070000</td>\n      <td>18.070000</td>\n      <td>20.219999</td>\n      <td>18.010000</td>\n      <td>19.830000</td>\n      <td>0</td>\n      <td>0</td>\n    </tr>\n    <tr>\n      <th>4591</th>\n      <td>2021-02-01</td>\n      <td>ZYXI</td>\n      <td>18.170000</td>\n      <td>18.170000</td>\n      <td>18.750000</td>\n      <td>17.500000</td>\n      <td>18.600000</td>\n      <td>556800</td>\n      <td>1</td>\n    </tr>\n    <tr>\n      <th>4673</th>\n      <td>2021-02-02</td>\n      <td>ZYXI</td>\n      <td>19.510000</td>\n      <td>19.510000</td>\n      <td>19.660000</td>\n      <td>18.049999</td>\n      <td>18.350000</td>\n      <td>734600</td>\n      <td>0</td>\n    </tr>\n    <tr>\n      <th>4755</th>\n      <td>2021-02-03</td>\n      <td>ZYXI</td>\n      <td>18.709999</td>\n      <td>18.709999</td>\n      <td>19.639999</td>\n      <td>18.610001</td>\n      <td>19.540001</td>\n      <td>414900</td>\n      <td>0</td>\n    </tr>\n    <tr>\n      <th>4837</th>\n      <td>2021-02-04</td>\n      <td>ZYXI</td>\n      <td>18.160000</td>\n      <td>18.160000</td>\n      <td>18.980000</td>\n      <td>17.910000</td>\n      <td>18.910000</td>\n      <td>559300</td>\n      <td>0</td>\n    </tr>\n  </tbody>\n</table>\n<p>4838 rows × 9 columns</p>\n</div>"
     },
     "metadata": {},
     "execution_count": 7
    }
   ],
   "source": [
    "df3 = pd.read_json(\"../Data/price_mentions.json\")\n",
    "df3"
   ]
  },
  {
   "cell_type": "code",
   "execution_count": 8,
   "metadata": {},
   "outputs": [
    {
     "output_type": "execute_result",
     "data": {
      "text/plain": [
       "     names                                           metadata  \\\n",
       "0      940  {'id': 940, 'ethnicity': 'Caucasian', 'gender'...   \n",
       "1      941  {'id': 941, 'ethnicity': 'Caucasian/Midleaster...   \n",
       "2      943  {'id': 943, 'ethnicity': 'Caucasian', 'gender'...   \n",
       "3      944  {'id': 944, 'ethnicity': 'European', 'gender':...   \n",
       "4      945  {'id': 945, 'ethnicity': 'Caucasian', 'gender'...   \n",
       "..     ...                                                ...   \n",
       "148   1574  {'id': 1574, 'ethnicity': 'Caucasian', 'gender...   \n",
       "149   1576  {'id': 1576, 'ethnicity': 'Caucasian', 'gender...   \n",
       "150   1577  {'id': 1577, 'ethnicity': 'Caucasian', 'gender...   \n",
       "151   1581  {'id': 1581, 'ethnicity': 'Asian(American)', '...   \n",
       "152   1601  {'id': 1601, 'ethnicity': 'Caucasian', 'gender...   \n",
       "\n",
       "                                               samples  \n",
       "0    {'id': '940', 'otu_ids': [1167, 2859, 482, 226...  \n",
       "1    {'id': '941', 'otu_ids': [2722, 944, 2419, 253...  \n",
       "2    {'id': '943', 'otu_ids': [1795], 'sample_value...  \n",
       "3    {'id': '944', 'otu_ids': [922, 3555, 943, 1013...  \n",
       "4    {'id': '945', 'otu_ids': [944, 1795, 922, 2419...  \n",
       "..                                                 ...  \n",
       "148  {'id': '1574', 'otu_ids': [482, 909, 2419, 944...  \n",
       "149  {'id': '1576', 'otu_ids': [1929, 1770, 1926, 1...  \n",
       "150  {'id': '1577', 'otu_ids': [922, 1795, 151, 318...  \n",
       "151  {'id': '1581', 'otu_ids': [1795, 3312, 1399, 3...  \n",
       "152  {'id': '1601', 'otu_ids': [1929, 3030, 1795, 8...  \n",
       "\n",
       "[153 rows x 3 columns]"
      ],
      "text/html": "<div>\n<style scoped>\n    .dataframe tbody tr th:only-of-type {\n        vertical-align: middle;\n    }\n\n    .dataframe tbody tr th {\n        vertical-align: top;\n    }\n\n    .dataframe thead th {\n        text-align: right;\n    }\n</style>\n<table border=\"1\" class=\"dataframe\">\n  <thead>\n    <tr style=\"text-align: right;\">\n      <th></th>\n      <th>names</th>\n      <th>metadata</th>\n      <th>samples</th>\n    </tr>\n  </thead>\n  <tbody>\n    <tr>\n      <th>0</th>\n      <td>940</td>\n      <td>{'id': 940, 'ethnicity': 'Caucasian', 'gender'...</td>\n      <td>{'id': '940', 'otu_ids': [1167, 2859, 482, 226...</td>\n    </tr>\n    <tr>\n      <th>1</th>\n      <td>941</td>\n      <td>{'id': 941, 'ethnicity': 'Caucasian/Midleaster...</td>\n      <td>{'id': '941', 'otu_ids': [2722, 944, 2419, 253...</td>\n    </tr>\n    <tr>\n      <th>2</th>\n      <td>943</td>\n      <td>{'id': 943, 'ethnicity': 'Caucasian', 'gender'...</td>\n      <td>{'id': '943', 'otu_ids': [1795], 'sample_value...</td>\n    </tr>\n    <tr>\n      <th>3</th>\n      <td>944</td>\n      <td>{'id': 944, 'ethnicity': 'European', 'gender':...</td>\n      <td>{'id': '944', 'otu_ids': [922, 3555, 943, 1013...</td>\n    </tr>\n    <tr>\n      <th>4</th>\n      <td>945</td>\n      <td>{'id': 945, 'ethnicity': 'Caucasian', 'gender'...</td>\n      <td>{'id': '945', 'otu_ids': [944, 1795, 922, 2419...</td>\n    </tr>\n    <tr>\n      <th>...</th>\n      <td>...</td>\n      <td>...</td>\n      <td>...</td>\n    </tr>\n    <tr>\n      <th>148</th>\n      <td>1574</td>\n      <td>{'id': 1574, 'ethnicity': 'Caucasian', 'gender...</td>\n      <td>{'id': '1574', 'otu_ids': [482, 909, 2419, 944...</td>\n    </tr>\n    <tr>\n      <th>149</th>\n      <td>1576</td>\n      <td>{'id': 1576, 'ethnicity': 'Caucasian', 'gender...</td>\n      <td>{'id': '1576', 'otu_ids': [1929, 1770, 1926, 1...</td>\n    </tr>\n    <tr>\n      <th>150</th>\n      <td>1577</td>\n      <td>{'id': 1577, 'ethnicity': 'Caucasian', 'gender...</td>\n      <td>{'id': '1577', 'otu_ids': [922, 1795, 151, 318...</td>\n    </tr>\n    <tr>\n      <th>151</th>\n      <td>1581</td>\n      <td>{'id': 1581, 'ethnicity': 'Asian(American)', '...</td>\n      <td>{'id': '1581', 'otu_ids': [1795, 3312, 1399, 3...</td>\n    </tr>\n    <tr>\n      <th>152</th>\n      <td>1601</td>\n      <td>{'id': 1601, 'ethnicity': 'Caucasian', 'gender...</td>\n      <td>{'id': '1601', 'otu_ids': [1929, 3030, 1795, 8...</td>\n    </tr>\n  </tbody>\n</table>\n<p>153 rows × 3 columns</p>\n</div>"
     },
     "metadata": {},
     "execution_count": 8
    }
   ],
   "source": [
    "df4 = pd.read_json(\"../Data/samples.json\")\n",
    "df4"
   ]
  },
  {
   "cell_type": "code",
   "execution_count": 22,
   "metadata": {},
   "outputs": [
    {
     "output_type": "execute_result",
     "data": {
      "text/plain": [
       "            date Ticker  Adj Close      Close       High        Low  \\\n",
       "0     2020-12-08    AAL  17.629999  17.629999  17.920000  17.160000   \n",
       "1     2020-12-09    AAL  17.160000  17.160000  18.629999  16.629999   \n",
       "2     2020-12-10    AAL  17.990000  17.990000  18.040001  16.670000   \n",
       "3     2020-12-11    AAL  17.049999  17.049999  17.910000  16.809999   \n",
       "4     2020-12-12    AAL  17.049999  17.049999  17.910000  16.809999   \n",
       "...          ...    ...        ...        ...        ...        ...   \n",
       "4833  2021-01-31   ZYXI  18.070000  18.070000  20.219999  18.010000   \n",
       "4834  2021-02-01   ZYXI  18.170000  18.170000  18.750000  17.500000   \n",
       "4835  2021-02-02   ZYXI  19.510000  19.510000  19.660000  18.049999   \n",
       "4836  2021-02-03   ZYXI  18.709999  18.709999  19.639999  18.610001   \n",
       "4837  2021-02-04   ZYXI  18.160000  18.160000  18.980000  17.910000   \n",
       "\n",
       "           Open       Volume  mentions  \n",
       "0     17.469999   95855400.0      21.0  \n",
       "1     18.370001  138508300.0      41.0  \n",
       "2     16.750000   86395200.0      76.0  \n",
       "3     17.820000  106957300.0      74.0  \n",
       "4     17.820000          0.0      31.0  \n",
       "...         ...          ...       ...  \n",
       "4833  19.830000          0.0       0.0  \n",
       "4834  18.600000     556800.0       1.0  \n",
       "4835  18.350000     734600.0       0.0  \n",
       "4836  19.540001     414900.0       0.0  \n",
       "4837  18.910000     559300.0       0.0  \n",
       "\n",
       "[4838 rows x 9 columns]"
      ],
      "text/html": "<div>\n<style scoped>\n    .dataframe tbody tr th:only-of-type {\n        vertical-align: middle;\n    }\n\n    .dataframe tbody tr th {\n        vertical-align: top;\n    }\n\n    .dataframe thead th {\n        text-align: right;\n    }\n</style>\n<table border=\"1\" class=\"dataframe\">\n  <thead>\n    <tr style=\"text-align: right;\">\n      <th></th>\n      <th>date</th>\n      <th>Ticker</th>\n      <th>Adj Close</th>\n      <th>Close</th>\n      <th>High</th>\n      <th>Low</th>\n      <th>Open</th>\n      <th>Volume</th>\n      <th>mentions</th>\n    </tr>\n  </thead>\n  <tbody>\n    <tr>\n      <th>0</th>\n      <td>2020-12-08</td>\n      <td>AAL</td>\n      <td>17.629999</td>\n      <td>17.629999</td>\n      <td>17.920000</td>\n      <td>17.160000</td>\n      <td>17.469999</td>\n      <td>95855400.0</td>\n      <td>21.0</td>\n    </tr>\n    <tr>\n      <th>1</th>\n      <td>2020-12-09</td>\n      <td>AAL</td>\n      <td>17.160000</td>\n      <td>17.160000</td>\n      <td>18.629999</td>\n      <td>16.629999</td>\n      <td>18.370001</td>\n      <td>138508300.0</td>\n      <td>41.0</td>\n    </tr>\n    <tr>\n      <th>2</th>\n      <td>2020-12-10</td>\n      <td>AAL</td>\n      <td>17.990000</td>\n      <td>17.990000</td>\n      <td>18.040001</td>\n      <td>16.670000</td>\n      <td>16.750000</td>\n      <td>86395200.0</td>\n      <td>76.0</td>\n    </tr>\n    <tr>\n      <th>3</th>\n      <td>2020-12-11</td>\n      <td>AAL</td>\n      <td>17.049999</td>\n      <td>17.049999</td>\n      <td>17.910000</td>\n      <td>16.809999</td>\n      <td>17.820000</td>\n      <td>106957300.0</td>\n      <td>74.0</td>\n    </tr>\n    <tr>\n      <th>4</th>\n      <td>2020-12-12</td>\n      <td>AAL</td>\n      <td>17.049999</td>\n      <td>17.049999</td>\n      <td>17.910000</td>\n      <td>16.809999</td>\n      <td>17.820000</td>\n      <td>0.0</td>\n      <td>31.0</td>\n    </tr>\n    <tr>\n      <th>...</th>\n      <td>...</td>\n      <td>...</td>\n      <td>...</td>\n      <td>...</td>\n      <td>...</td>\n      <td>...</td>\n      <td>...</td>\n      <td>...</td>\n      <td>...</td>\n    </tr>\n    <tr>\n      <th>4833</th>\n      <td>2021-01-31</td>\n      <td>ZYXI</td>\n      <td>18.070000</td>\n      <td>18.070000</td>\n      <td>20.219999</td>\n      <td>18.010000</td>\n      <td>19.830000</td>\n      <td>0.0</td>\n      <td>0.0</td>\n    </tr>\n    <tr>\n      <th>4834</th>\n      <td>2021-02-01</td>\n      <td>ZYXI</td>\n      <td>18.170000</td>\n      <td>18.170000</td>\n      <td>18.750000</td>\n      <td>17.500000</td>\n      <td>18.600000</td>\n      <td>556800.0</td>\n      <td>1.0</td>\n    </tr>\n    <tr>\n      <th>4835</th>\n      <td>2021-02-02</td>\n      <td>ZYXI</td>\n      <td>19.510000</td>\n      <td>19.510000</td>\n      <td>19.660000</td>\n      <td>18.049999</td>\n      <td>18.350000</td>\n      <td>734600.0</td>\n      <td>0.0</td>\n    </tr>\n    <tr>\n      <th>4836</th>\n      <td>2021-02-03</td>\n      <td>ZYXI</td>\n      <td>18.709999</td>\n      <td>18.709999</td>\n      <td>19.639999</td>\n      <td>18.610001</td>\n      <td>19.540001</td>\n      <td>414900.0</td>\n      <td>0.0</td>\n    </tr>\n    <tr>\n      <th>4837</th>\n      <td>2021-02-04</td>\n      <td>ZYXI</td>\n      <td>18.160000</td>\n      <td>18.160000</td>\n      <td>18.980000</td>\n      <td>17.910000</td>\n      <td>18.910000</td>\n      <td>559300.0</td>\n      <td>0.0</td>\n    </tr>\n  </tbody>\n</table>\n<p>4838 rows × 9 columns</p>\n</div>"
     },
     "metadata": {},
     "execution_count": 22
    }
   ],
   "source": [
    "d5 = pd.read_csv(\"../Data/price_mentions_dateindex.csv\")\n",
    "d5"
   ]
  },
  {
   "cell_type": "code",
   "execution_count": 9,
   "metadata": {},
   "outputs": [
    {
     "output_type": "error",
     "ename": "TypeError",
     "evalue": "'Index' object is not callable",
     "traceback": [
      "\u001b[0;31m---------------------------------------------------------------------------\u001b[0m",
      "\u001b[0;31mTypeError\u001b[0m                                 Traceback (most recent call last)",
      "\u001b[0;32m<ipython-input-9-83d408da6d3a>\u001b[0m in \u001b[0;36m<module>\u001b[0;34m\u001b[0m\n\u001b[0;32m----> 1\u001b[0;31m \u001b[0mdf4\u001b[0m\u001b[0;34m.\u001b[0m\u001b[0mcolumns\u001b[0m\u001b[0;34m(\u001b[0m\u001b[0;34m)\u001b[0m\u001b[0;34m\u001b[0m\u001b[0;34m\u001b[0m\u001b[0m\n\u001b[0m",
      "\u001b[0;31mTypeError\u001b[0m: 'Index' object is not callable"
     ]
    }
   ],
   "source": [
    "df4.columns()"
   ]
  },
  {
   "cell_type": "code",
   "execution_count": 12,
   "metadata": {},
   "outputs": [
    {
     "output_type": "execute_result",
     "data": {
      "text/plain": [
       "0      {'id': 940, 'ethnicity': 'Caucasian', 'gender'...\n",
       "1      {'id': 941, 'ethnicity': 'Caucasian/Midleaster...\n",
       "2      {'id': 943, 'ethnicity': 'Caucasian', 'gender'...\n",
       "3      {'id': 944, 'ethnicity': 'European', 'gender':...\n",
       "4      {'id': 945, 'ethnicity': 'Caucasian', 'gender'...\n",
       "                             ...                        \n",
       "148    {'id': 1574, 'ethnicity': 'Caucasian', 'gender...\n",
       "149    {'id': 1576, 'ethnicity': 'Caucasian', 'gender...\n",
       "150    {'id': 1577, 'ethnicity': 'Caucasian', 'gender...\n",
       "151    {'id': 1581, 'ethnicity': 'Asian(American)', '...\n",
       "152    {'id': 1601, 'ethnicity': 'Caucasian', 'gender...\n",
       "Name: metadata, Length: 153, dtype: object"
      ]
     },
     "metadata": {},
     "execution_count": 12
    }
   ],
   "source": [
    "df4[\"metadata\"]"
   ]
  },
  {
   "cell_type": "code",
   "execution_count": null,
   "metadata": {},
   "outputs": [],
   "source": []
  }
 ]
}