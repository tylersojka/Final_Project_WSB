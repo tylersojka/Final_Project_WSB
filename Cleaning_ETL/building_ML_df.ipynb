{
 "metadata": {
  "language_info": {
   "codemirror_mode": {
    "name": "ipython",
    "version": 3
   },
   "file_extension": ".py",
   "mimetype": "text/x-python",
   "name": "python",
   "nbconvert_exporter": "python",
   "pygments_lexer": "ipython3",
   "version": "3.7.9-final"
  },
  "orig_nbformat": 2,
  "kernelspec": {
   "name": "python3",
   "display_name": "Python 3.7.9 64-bit",
   "metadata": {
    "interpreter": {
     "hash": "048dad420f067fed17ce0fa3745b2d42d3aa5960af8b063192d7d7c1cf436e55"
    }
   }
  }
 },
 "nbformat": 4,
 "nbformat_minor": 2,
 "cells": [
  {
   "cell_type": "code",
   "execution_count": 2,
   "metadata": {},
   "outputs": [],
   "source": [
    "import pandas as pd\n",
    "import yfinance as yf\n",
    "import datetime\n",
    "from datetime import datetime"
   ]
  },
  {
   "cell_type": "code",
   "execution_count": 3,
   "metadata": {},
   "outputs": [],
   "source": [
    "combo_multi_path = \"../Data/combo_count_multiindex.csv\"\n",
    "ticker_path = \"../Data/final_ticker_list.csv\""
   ]
  },
  {
   "cell_type": "code",
   "execution_count": 4,
   "metadata": {},
   "outputs": [],
   "source": [
    "count_df = pd.read_csv(combo_multi_path, header=[0,1], index_col=0)\n",
    "ticker_list = pd.read_csv(ticker_path)"
   ]
  },
  {
   "cell_type": "code",
   "execution_count": 5,
   "metadata": {},
   "outputs": [],
   "source": [
    "ticker_list = ticker_list[\"Tickers\"].to_list()"
   ]
  },
  {
   "cell_type": "code",
   "execution_count": 6,
   "metadata": {},
   "outputs": [
    {
     "output_type": "execute_result",
     "data": {
      "text/plain": [
       "                AMC     PUBM     GOGO     ISUN     CLVS      GME      SKT  \\\n",
       "           mentions mentions mentions mentions mentions mentions mentions   \n",
       "date                                                                        \n",
       "2020-12-08     11.0      2.0      6.0      0.0      0.0   1801.0      0.0   \n",
       "2020-12-09      2.0     26.0      6.0      0.0      0.0   1867.0      0.0   \n",
       "2020-12-10     23.0      3.0      1.0      0.0      0.0    571.0      0.0   \n",
       "2020-12-11     15.0      3.0      0.0      0.0      0.0    406.0      1.0   \n",
       "2020-12-12     33.0      0.0      0.0      0.0      0.0    258.0      0.0   \n",
       "\n",
       "               LGND     TRIT     ESPR  ...       JP     AAPL       ET  \\\n",
       "           mentions mentions mentions  ... mentions mentions mentions   \n",
       "date                                   ...                              \n",
       "2020-12-08      0.0      0.0      0.0  ...      2.0     88.0      4.0   \n",
       "2020-12-09      0.0      0.0      0.0  ...     61.0    212.0      8.0   \n",
       "2020-12-10      0.0      0.0      0.0  ...     59.0    113.0     20.0   \n",
       "2020-12-11      0.0      0.0      0.0  ...     19.0    112.0      6.0   \n",
       "2020-12-12      0.0      0.0      0.0  ...     11.0     68.0      3.0   \n",
       "\n",
       "                MSM       FB     TLRY      BRO     CRSR     IBKR      BIO  \n",
       "           mentions mentions mentions mentions mentions mentions mentions  \n",
       "date                                                                       \n",
       "2020-12-08      0.0     11.0      1.0     77.0     44.0      5.0      1.0  \n",
       "2020-12-09      0.0    161.0      3.0    151.0     91.0     11.0      6.0  \n",
       "2020-12-10      4.0    155.0      1.0    125.0     52.0      8.0     10.0  \n",
       "2020-12-11      9.0     52.0      0.0    177.0    100.0     18.0      5.0  \n",
       "2020-12-12      0.0     31.0      0.0    132.0     39.0     15.0      8.0  \n",
       "\n",
       "[5 rows x 82 columns]"
      ],
      "text/html": "<div>\n<style scoped>\n    .dataframe tbody tr th:only-of-type {\n        vertical-align: middle;\n    }\n\n    .dataframe tbody tr th {\n        vertical-align: top;\n    }\n\n    .dataframe thead tr th {\n        text-align: left;\n    }\n\n    .dataframe thead tr:last-of-type th {\n        text-align: right;\n    }\n</style>\n<table border=\"1\" class=\"dataframe\">\n  <thead>\n    <tr>\n      <th></th>\n      <th>AMC</th>\n      <th>PUBM</th>\n      <th>GOGO</th>\n      <th>ISUN</th>\n      <th>CLVS</th>\n      <th>GME</th>\n      <th>SKT</th>\n      <th>LGND</th>\n      <th>TRIT</th>\n      <th>ESPR</th>\n      <th>...</th>\n      <th>JP</th>\n      <th>AAPL</th>\n      <th>ET</th>\n      <th>MSM</th>\n      <th>FB</th>\n      <th>TLRY</th>\n      <th>BRO</th>\n      <th>CRSR</th>\n      <th>IBKR</th>\n      <th>BIO</th>\n    </tr>\n    <tr>\n      <th></th>\n      <th>mentions</th>\n      <th>mentions</th>\n      <th>mentions</th>\n      <th>mentions</th>\n      <th>mentions</th>\n      <th>mentions</th>\n      <th>mentions</th>\n      <th>mentions</th>\n      <th>mentions</th>\n      <th>mentions</th>\n      <th>...</th>\n      <th>mentions</th>\n      <th>mentions</th>\n      <th>mentions</th>\n      <th>mentions</th>\n      <th>mentions</th>\n      <th>mentions</th>\n      <th>mentions</th>\n      <th>mentions</th>\n      <th>mentions</th>\n      <th>mentions</th>\n    </tr>\n    <tr>\n      <th>date</th>\n      <th></th>\n      <th></th>\n      <th></th>\n      <th></th>\n      <th></th>\n      <th></th>\n      <th></th>\n      <th></th>\n      <th></th>\n      <th></th>\n      <th></th>\n      <th></th>\n      <th></th>\n      <th></th>\n      <th></th>\n      <th></th>\n      <th></th>\n      <th></th>\n      <th></th>\n      <th></th>\n      <th></th>\n    </tr>\n  </thead>\n  <tbody>\n    <tr>\n      <th>2020-12-08</th>\n      <td>11.0</td>\n      <td>2.0</td>\n      <td>6.0</td>\n      <td>0.0</td>\n      <td>0.0</td>\n      <td>1801.0</td>\n      <td>0.0</td>\n      <td>0.0</td>\n      <td>0.0</td>\n      <td>0.0</td>\n      <td>...</td>\n      <td>2.0</td>\n      <td>88.0</td>\n      <td>4.0</td>\n      <td>0.0</td>\n      <td>11.0</td>\n      <td>1.0</td>\n      <td>77.0</td>\n      <td>44.0</td>\n      <td>5.0</td>\n      <td>1.0</td>\n    </tr>\n    <tr>\n      <th>2020-12-09</th>\n      <td>2.0</td>\n      <td>26.0</td>\n      <td>6.0</td>\n      <td>0.0</td>\n      <td>0.0</td>\n      <td>1867.0</td>\n      <td>0.0</td>\n      <td>0.0</td>\n      <td>0.0</td>\n      <td>0.0</td>\n      <td>...</td>\n      <td>61.0</td>\n      <td>212.0</td>\n      <td>8.0</td>\n      <td>0.0</td>\n      <td>161.0</td>\n      <td>3.0</td>\n      <td>151.0</td>\n      <td>91.0</td>\n      <td>11.0</td>\n      <td>6.0</td>\n    </tr>\n    <tr>\n      <th>2020-12-10</th>\n      <td>23.0</td>\n      <td>3.0</td>\n      <td>1.0</td>\n      <td>0.0</td>\n      <td>0.0</td>\n      <td>571.0</td>\n      <td>0.0</td>\n      <td>0.0</td>\n      <td>0.0</td>\n      <td>0.0</td>\n      <td>...</td>\n      <td>59.0</td>\n      <td>113.0</td>\n      <td>20.0</td>\n      <td>4.0</td>\n      <td>155.0</td>\n      <td>1.0</td>\n      <td>125.0</td>\n      <td>52.0</td>\n      <td>8.0</td>\n      <td>10.0</td>\n    </tr>\n    <tr>\n      <th>2020-12-11</th>\n      <td>15.0</td>\n      <td>3.0</td>\n      <td>0.0</td>\n      <td>0.0</td>\n      <td>0.0</td>\n      <td>406.0</td>\n      <td>1.0</td>\n      <td>0.0</td>\n      <td>0.0</td>\n      <td>0.0</td>\n      <td>...</td>\n      <td>19.0</td>\n      <td>112.0</td>\n      <td>6.0</td>\n      <td>9.0</td>\n      <td>52.0</td>\n      <td>0.0</td>\n      <td>177.0</td>\n      <td>100.0</td>\n      <td>18.0</td>\n      <td>5.0</td>\n    </tr>\n    <tr>\n      <th>2020-12-12</th>\n      <td>33.0</td>\n      <td>0.0</td>\n      <td>0.0</td>\n      <td>0.0</td>\n      <td>0.0</td>\n      <td>258.0</td>\n      <td>0.0</td>\n      <td>0.0</td>\n      <td>0.0</td>\n      <td>0.0</td>\n      <td>...</td>\n      <td>11.0</td>\n      <td>68.0</td>\n      <td>3.0</td>\n      <td>0.0</td>\n      <td>31.0</td>\n      <td>0.0</td>\n      <td>132.0</td>\n      <td>39.0</td>\n      <td>15.0</td>\n      <td>8.0</td>\n    </tr>\n  </tbody>\n</table>\n<p>5 rows × 82 columns</p>\n</div>"
     },
     "metadata": {},
     "execution_count": 6
    }
   ],
   "source": [
    "count_df.head()"
   ]
  },
  {
   "cell_type": "code",
   "execution_count": 7,
   "metadata": {},
   "outputs": [
    {
     "output_type": "stream",
     "name": "stdout",
     "text": [
      "[*********************100%***********************]  82 of 82 completed\n"
     ]
    }
   ],
   "source": [
    "df = pd.DataFrame(yf.download(ticker_list, start=\"2020-12-08\", end=\"2021-02-05\", interval=\"1d\", group_by='tickers', index=False))\n"
   ]
  },
  {
   "cell_type": "code",
   "execution_count": 8,
   "metadata": {},
   "outputs": [
    {
     "output_type": "execute_result",
     "data": {
      "text/plain": [
       "                  CUZ                                                         \\\n",
       "                 Open       High        Low      Close  Adj Close     Volume   \n",
       "Date                                                                           \n",
       "2020-12-08  33.869999  33.990002  32.869999  32.980000  32.685974  1085700.0   \n",
       "2020-12-09  33.119999  33.549999  32.790001  33.470001  33.171604   944700.0   \n",
       "2020-12-10  33.139999  34.000000  33.139999  33.950001  33.647327   996100.0   \n",
       "2020-12-11  34.150002  34.529999  33.430000  33.790001  33.488754   867200.0   \n",
       "2020-12-14  34.000000  34.730000  33.840000  34.450001  34.142868  1690700.0   \n",
       "\n",
       "             ITP                    ...    RVP                              \\\n",
       "            Open  High   Low Close  ...    Low  Close Adj Close     Volume   \n",
       "Date                                ...                                      \n",
       "2020-12-08  0.67  0.71  0.65  0.70  ...   9.25   9.89      9.89  1033800.0   \n",
       "2020-12-09  0.70  0.71  0.65  0.66  ...   9.62   9.96      9.96  1222700.0   \n",
       "2020-12-10  0.64  0.67  0.63  0.63  ...   9.80  12.14     12.14  3398200.0   \n",
       "2020-12-11  0.64  0.67  0.63  0.66  ...  10.54  11.34     11.34  2235900.0   \n",
       "2020-12-14  0.65  0.70  0.65  0.67  ...  11.79  12.77     12.77  3105600.0   \n",
       "\n",
       "              APT                                            \n",
       "             Open   High    Low  Close Adj Close     Volume  \n",
       "Date                                                         \n",
       "2020-12-08  12.50  13.50  12.22  12.99     12.99  2484700.0  \n",
       "2020-12-09  13.05  13.08  12.03  12.35     12.35  1529500.0  \n",
       "2020-12-10  12.20  12.42  12.07  12.29     12.29   591300.0  \n",
       "2020-12-11  12.30  12.54  12.10  12.10     12.10   603400.0  \n",
       "2020-12-14  12.01  12.20  11.70  12.12     12.12   849500.0  \n",
       "\n",
       "[5 rows x 492 columns]"
      ],
      "text/html": "<div>\n<style scoped>\n    .dataframe tbody tr th:only-of-type {\n        vertical-align: middle;\n    }\n\n    .dataframe tbody tr th {\n        vertical-align: top;\n    }\n\n    .dataframe thead tr th {\n        text-align: left;\n    }\n\n    .dataframe thead tr:last-of-type th {\n        text-align: right;\n    }\n</style>\n<table border=\"1\" class=\"dataframe\">\n  <thead>\n    <tr>\n      <th></th>\n      <th colspan=\"6\" halign=\"left\">CUZ</th>\n      <th colspan=\"4\" halign=\"left\">ITP</th>\n      <th>...</th>\n      <th colspan=\"4\" halign=\"left\">RVP</th>\n      <th colspan=\"6\" halign=\"left\">APT</th>\n    </tr>\n    <tr>\n      <th></th>\n      <th>Open</th>\n      <th>High</th>\n      <th>Low</th>\n      <th>Close</th>\n      <th>Adj Close</th>\n      <th>Volume</th>\n      <th>Open</th>\n      <th>High</th>\n      <th>Low</th>\n      <th>Close</th>\n      <th>...</th>\n      <th>Low</th>\n      <th>Close</th>\n      <th>Adj Close</th>\n      <th>Volume</th>\n      <th>Open</th>\n      <th>High</th>\n      <th>Low</th>\n      <th>Close</th>\n      <th>Adj Close</th>\n      <th>Volume</th>\n    </tr>\n    <tr>\n      <th>Date</th>\n      <th></th>\n      <th></th>\n      <th></th>\n      <th></th>\n      <th></th>\n      <th></th>\n      <th></th>\n      <th></th>\n      <th></th>\n      <th></th>\n      <th></th>\n      <th></th>\n      <th></th>\n      <th></th>\n      <th></th>\n      <th></th>\n      <th></th>\n      <th></th>\n      <th></th>\n      <th></th>\n      <th></th>\n    </tr>\n  </thead>\n  <tbody>\n    <tr>\n      <th>2020-12-08</th>\n      <td>33.869999</td>\n      <td>33.990002</td>\n      <td>32.869999</td>\n      <td>32.980000</td>\n      <td>32.685974</td>\n      <td>1085700.0</td>\n      <td>0.67</td>\n      <td>0.71</td>\n      <td>0.65</td>\n      <td>0.70</td>\n      <td>...</td>\n      <td>9.25</td>\n      <td>9.89</td>\n      <td>9.89</td>\n      <td>1033800.0</td>\n      <td>12.50</td>\n      <td>13.50</td>\n      <td>12.22</td>\n      <td>12.99</td>\n      <td>12.99</td>\n      <td>2484700.0</td>\n    </tr>\n    <tr>\n      <th>2020-12-09</th>\n      <td>33.119999</td>\n      <td>33.549999</td>\n      <td>32.790001</td>\n      <td>33.470001</td>\n      <td>33.171604</td>\n      <td>944700.0</td>\n      <td>0.70</td>\n      <td>0.71</td>\n      <td>0.65</td>\n      <td>0.66</td>\n      <td>...</td>\n      <td>9.62</td>\n      <td>9.96</td>\n      <td>9.96</td>\n      <td>1222700.0</td>\n      <td>13.05</td>\n      <td>13.08</td>\n      <td>12.03</td>\n      <td>12.35</td>\n      <td>12.35</td>\n      <td>1529500.0</td>\n    </tr>\n    <tr>\n      <th>2020-12-10</th>\n      <td>33.139999</td>\n      <td>34.000000</td>\n      <td>33.139999</td>\n      <td>33.950001</td>\n      <td>33.647327</td>\n      <td>996100.0</td>\n      <td>0.64</td>\n      <td>0.67</td>\n      <td>0.63</td>\n      <td>0.63</td>\n      <td>...</td>\n      <td>9.80</td>\n      <td>12.14</td>\n      <td>12.14</td>\n      <td>3398200.0</td>\n      <td>12.20</td>\n      <td>12.42</td>\n      <td>12.07</td>\n      <td>12.29</td>\n      <td>12.29</td>\n      <td>591300.0</td>\n    </tr>\n    <tr>\n      <th>2020-12-11</th>\n      <td>34.150002</td>\n      <td>34.529999</td>\n      <td>33.430000</td>\n      <td>33.790001</td>\n      <td>33.488754</td>\n      <td>867200.0</td>\n      <td>0.64</td>\n      <td>0.67</td>\n      <td>0.63</td>\n      <td>0.66</td>\n      <td>...</td>\n      <td>10.54</td>\n      <td>11.34</td>\n      <td>11.34</td>\n      <td>2235900.0</td>\n      <td>12.30</td>\n      <td>12.54</td>\n      <td>12.10</td>\n      <td>12.10</td>\n      <td>12.10</td>\n      <td>603400.0</td>\n    </tr>\n    <tr>\n      <th>2020-12-14</th>\n      <td>34.000000</td>\n      <td>34.730000</td>\n      <td>33.840000</td>\n      <td>34.450001</td>\n      <td>34.142868</td>\n      <td>1690700.0</td>\n      <td>0.65</td>\n      <td>0.70</td>\n      <td>0.65</td>\n      <td>0.67</td>\n      <td>...</td>\n      <td>11.79</td>\n      <td>12.77</td>\n      <td>12.77</td>\n      <td>3105600.0</td>\n      <td>12.01</td>\n      <td>12.20</td>\n      <td>11.70</td>\n      <td>12.12</td>\n      <td>12.12</td>\n      <td>849500.0</td>\n    </tr>\n  </tbody>\n</table>\n<p>5 rows × 492 columns</p>\n</div>"
     },
     "metadata": {},
     "execution_count": 8
    }
   ],
   "source": [
    "df.head()"
   ]
  },
  {
   "cell_type": "code",
   "execution_count": 9,
   "metadata": {},
   "outputs": [],
   "source": [
    "amc_count = pd.DataFrame(count_df[\"AMC\"])"
   ]
  },
  {
   "cell_type": "code",
   "execution_count": 10,
   "metadata": {},
   "outputs": [],
   "source": [
    "amc_price = df[\"AMC\"]"
   ]
  },
  {
   "cell_type": "code",
   "execution_count": 11,
   "metadata": {},
   "outputs": [
    {
     "output_type": "execute_result",
     "data": {
      "text/plain": [
       "            mentions   Open       High    Low  Close  Adj Close        Volume\n",
       "date                                                                         \n",
       "2020-12-08      11.0   3.61   4.020000   3.61   3.98       3.98  2.953060e+07\n",
       "2020-12-09       2.0   4.22   4.330000   3.75   3.86       3.86  2.099120e+07\n",
       "2020-12-10      23.0   3.79   4.100000   3.77   4.09       4.09  1.987280e+07\n",
       "2020-12-11      15.0   4.04   4.250000   3.87   3.92       3.92  2.231040e+07\n",
       "2020-12-12      33.0    NaN        NaN    NaN    NaN        NaN           NaN\n",
       "2020-12-13      12.0    NaN        NaN    NaN    NaN        NaN           NaN\n",
       "2020-12-14      44.0   4.01   4.010000   3.00   3.19       3.19  6.715900e+07\n",
       "2020-12-15      65.0   3.24   3.240000   2.76   2.86       2.86  5.443210e+07\n",
       "2020-12-16      66.0   2.87   2.890000   2.72   2.78       2.78  2.542320e+07\n",
       "2020-12-17      44.0   2.80   2.950000   2.74   2.85       2.85  2.379930e+07\n",
       "2020-12-18      16.0   2.85   2.850000   2.76   2.80       2.80  2.194170e+07\n",
       "2020-12-19      15.0    NaN        NaN    NaN    NaN        NaN           NaN\n",
       "2020-12-20       8.0    NaN        NaN    NaN    NaN        NaN           NaN\n",
       "2020-12-21      64.0   2.61   2.740000   2.58   2.68       2.68  2.269980e+07\n",
       "2020-12-22      29.0   2.73   2.750000   2.52   2.59       2.59  2.163840e+07\n",
       "2020-12-23      25.0   2.58   2.650000   2.54   2.56       2.56  1.572480e+07\n",
       "2020-12-24       6.0   2.59   2.600000   2.48   2.51       2.51  1.109420e+07\n",
       "2020-12-25      18.0    NaN        NaN    NaN    NaN        NaN           NaN\n",
       "2020-12-26      13.0    NaN        NaN    NaN    NaN        NaN           NaN\n",
       "2020-12-27      13.0    NaN        NaN    NaN    NaN        NaN           NaN\n",
       "2020-12-28      39.0   2.63   2.630000   2.36   2.39       2.39  2.394270e+07\n",
       "2020-12-29      39.0   2.44   2.460000   2.28   2.29       2.29  2.108610e+07\n",
       "2020-12-30      30.0   2.30   2.300000   2.13   2.16       2.16  4.027840e+07\n",
       "2020-12-31      30.0   2.17   2.220000   2.08   2.12       2.12  2.823430e+07\n",
       "2021-01-01       2.0    NaN        NaN    NaN    NaN        NaN           NaN\n",
       "2021-01-02       2.0    NaN        NaN    NaN    NaN        NaN           NaN\n",
       "2021-01-03       1.0    NaN        NaN    NaN    NaN        NaN           NaN\n",
       "2021-01-04       4.0   2.20   2.200000   2.00   2.01       2.01  2.987380e+07\n",
       "2021-01-05       8.0   1.99   2.030000   1.91   1.98       1.98  2.814830e+07\n",
       "2021-01-06       5.0   2.03   2.230000   1.97   2.01       2.01  6.736330e+07\n",
       "2021-01-07       9.0   2.08   2.110000   2.02   2.05       2.05  2.615050e+07\n",
       "2021-01-08       4.0   2.09   2.210000   2.07   2.14       2.14  3.955330e+07\n",
       "2021-01-09       2.0    NaN        NaN    NaN    NaN        NaN           NaN\n",
       "2021-01-10       1.0    NaN        NaN    NaN    NaN        NaN           NaN\n",
       "2021-01-11       4.0   2.16   2.270000   2.15   2.20       2.20  4.169580e+07\n",
       "2021-01-12       3.0   2.24   2.390000   2.24   2.29       2.29  4.178430e+07\n",
       "2021-01-13       5.0   2.33   2.380000   2.13   2.18       2.18  4.584770e+07\n",
       "2021-01-14      12.0   2.22   2.320000   2.13   2.18       2.18  4.963880e+07\n",
       "2021-01-15      61.0   2.20   2.550000   2.18   2.33       2.33  1.623564e+08\n",
       "2021-01-16       6.0    NaN        NaN    NaN    NaN        NaN           NaN\n",
       "2021-01-17       8.0    NaN        NaN    NaN    NaN        NaN           NaN\n",
       "2021-01-18      52.0    NaN        NaN    NaN    NaN        NaN           NaN\n",
       "2021-01-19      89.0   2.80   3.200000   2.57   3.06       3.06  2.562760e+08\n",
       "2021-01-20      60.0   3.29   3.340000   2.75   2.97       2.97  1.818622e+08\n",
       "2021-01-21      29.0   3.00   3.060000   2.85   2.98       2.98  6.482380e+07\n",
       "2021-01-22     495.0   2.91   3.740000   2.81   3.51       3.51  2.682734e+08\n",
       "2021-01-23      58.0    NaN        NaN    NaN    NaN        NaN           NaN\n",
       "2021-01-24      16.0    NaN        NaN    NaN    NaN        NaN           NaN\n",
       "2021-01-25     215.0   4.71   4.880000   3.85   4.42       4.42  4.432381e+08\n",
       "2021-01-26      51.0   5.09   5.190000   4.37   4.96       4.96  4.568502e+08\n",
       "2021-01-27   17025.0  20.34  20.360001  11.01  19.90      19.90  1.222342e+09\n",
       "2021-01-28   24366.0  11.98  16.500000   6.51   8.63       8.63  5.912239e+08\n",
       "2021-01-29   19266.0  14.31  16.000000  11.60  13.26      13.26  6.021933e+08\n",
       "2021-01-30   15686.0    NaN        NaN    NaN    NaN        NaN           NaN\n",
       "2021-01-31   11754.0    NaN        NaN    NaN    NaN        NaN           NaN\n",
       "2021-02-01   19609.0  17.00  17.250000  12.91  13.30      13.30  4.346080e+08\n",
       "2021-02-02   15521.0   9.48  10.100000   6.00   7.82       7.82  4.627759e+08\n",
       "2021-02-03    1872.0   8.85   9.770000   7.89   8.97       8.97  2.214051e+08\n",
       "2021-02-04      40.0   8.70   8.740000   7.00   7.09       7.09  1.629858e+08"
      ],
      "text/html": "<div>\n<style scoped>\n    .dataframe tbody tr th:only-of-type {\n        vertical-align: middle;\n    }\n\n    .dataframe tbody tr th {\n        vertical-align: top;\n    }\n\n    .dataframe thead th {\n        text-align: right;\n    }\n</style>\n<table border=\"1\" class=\"dataframe\">\n  <thead>\n    <tr style=\"text-align: right;\">\n      <th></th>\n      <th>mentions</th>\n      <th>Open</th>\n      <th>High</th>\n      <th>Low</th>\n      <th>Close</th>\n      <th>Adj Close</th>\n      <th>Volume</th>\n    </tr>\n    <tr>\n      <th>date</th>\n      <th></th>\n      <th></th>\n      <th></th>\n      <th></th>\n      <th></th>\n      <th></th>\n      <th></th>\n    </tr>\n  </thead>\n  <tbody>\n    <tr>\n      <th>2020-12-08</th>\n      <td>11.0</td>\n      <td>3.61</td>\n      <td>4.020000</td>\n      <td>3.61</td>\n      <td>3.98</td>\n      <td>3.98</td>\n      <td>2.953060e+07</td>\n    </tr>\n    <tr>\n      <th>2020-12-09</th>\n      <td>2.0</td>\n      <td>4.22</td>\n      <td>4.330000</td>\n      <td>3.75</td>\n      <td>3.86</td>\n      <td>3.86</td>\n      <td>2.099120e+07</td>\n    </tr>\n    <tr>\n      <th>2020-12-10</th>\n      <td>23.0</td>\n      <td>3.79</td>\n      <td>4.100000</td>\n      <td>3.77</td>\n      <td>4.09</td>\n      <td>4.09</td>\n      <td>1.987280e+07</td>\n    </tr>\n    <tr>\n      <th>2020-12-11</th>\n      <td>15.0</td>\n      <td>4.04</td>\n      <td>4.250000</td>\n      <td>3.87</td>\n      <td>3.92</td>\n      <td>3.92</td>\n      <td>2.231040e+07</td>\n    </tr>\n    <tr>\n      <th>2020-12-12</th>\n      <td>33.0</td>\n      <td>NaN</td>\n      <td>NaN</td>\n      <td>NaN</td>\n      <td>NaN</td>\n      <td>NaN</td>\n      <td>NaN</td>\n    </tr>\n    <tr>\n      <th>2020-12-13</th>\n      <td>12.0</td>\n      <td>NaN</td>\n      <td>NaN</td>\n      <td>NaN</td>\n      <td>NaN</td>\n      <td>NaN</td>\n      <td>NaN</td>\n    </tr>\n    <tr>\n      <th>2020-12-14</th>\n      <td>44.0</td>\n      <td>4.01</td>\n      <td>4.010000</td>\n      <td>3.00</td>\n      <td>3.19</td>\n      <td>3.19</td>\n      <td>6.715900e+07</td>\n    </tr>\n    <tr>\n      <th>2020-12-15</th>\n      <td>65.0</td>\n      <td>3.24</td>\n      <td>3.240000</td>\n      <td>2.76</td>\n      <td>2.86</td>\n      <td>2.86</td>\n      <td>5.443210e+07</td>\n    </tr>\n    <tr>\n      <th>2020-12-16</th>\n      <td>66.0</td>\n      <td>2.87</td>\n      <td>2.890000</td>\n      <td>2.72</td>\n      <td>2.78</td>\n      <td>2.78</td>\n      <td>2.542320e+07</td>\n    </tr>\n    <tr>\n      <th>2020-12-17</th>\n      <td>44.0</td>\n      <td>2.80</td>\n      <td>2.950000</td>\n      <td>2.74</td>\n      <td>2.85</td>\n      <td>2.85</td>\n      <td>2.379930e+07</td>\n    </tr>\n    <tr>\n      <th>2020-12-18</th>\n      <td>16.0</td>\n      <td>2.85</td>\n      <td>2.850000</td>\n      <td>2.76</td>\n      <td>2.80</td>\n      <td>2.80</td>\n      <td>2.194170e+07</td>\n    </tr>\n    <tr>\n      <th>2020-12-19</th>\n      <td>15.0</td>\n      <td>NaN</td>\n      <td>NaN</td>\n      <td>NaN</td>\n      <td>NaN</td>\n      <td>NaN</td>\n      <td>NaN</td>\n    </tr>\n    <tr>\n      <th>2020-12-20</th>\n      <td>8.0</td>\n      <td>NaN</td>\n      <td>NaN</td>\n      <td>NaN</td>\n      <td>NaN</td>\n      <td>NaN</td>\n      <td>NaN</td>\n    </tr>\n    <tr>\n      <th>2020-12-21</th>\n      <td>64.0</td>\n      <td>2.61</td>\n      <td>2.740000</td>\n      <td>2.58</td>\n      <td>2.68</td>\n      <td>2.68</td>\n      <td>2.269980e+07</td>\n    </tr>\n    <tr>\n      <th>2020-12-22</th>\n      <td>29.0</td>\n      <td>2.73</td>\n      <td>2.750000</td>\n      <td>2.52</td>\n      <td>2.59</td>\n      <td>2.59</td>\n      <td>2.163840e+07</td>\n    </tr>\n    <tr>\n      <th>2020-12-23</th>\n      <td>25.0</td>\n      <td>2.58</td>\n      <td>2.650000</td>\n      <td>2.54</td>\n      <td>2.56</td>\n      <td>2.56</td>\n      <td>1.572480e+07</td>\n    </tr>\n    <tr>\n      <th>2020-12-24</th>\n      <td>6.0</td>\n      <td>2.59</td>\n      <td>2.600000</td>\n      <td>2.48</td>\n      <td>2.51</td>\n      <td>2.51</td>\n      <td>1.109420e+07</td>\n    </tr>\n    <tr>\n      <th>2020-12-25</th>\n      <td>18.0</td>\n      <td>NaN</td>\n      <td>NaN</td>\n      <td>NaN</td>\n      <td>NaN</td>\n      <td>NaN</td>\n      <td>NaN</td>\n    </tr>\n    <tr>\n      <th>2020-12-26</th>\n      <td>13.0</td>\n      <td>NaN</td>\n      <td>NaN</td>\n      <td>NaN</td>\n      <td>NaN</td>\n      <td>NaN</td>\n      <td>NaN</td>\n    </tr>\n    <tr>\n      <th>2020-12-27</th>\n      <td>13.0</td>\n      <td>NaN</td>\n      <td>NaN</td>\n      <td>NaN</td>\n      <td>NaN</td>\n      <td>NaN</td>\n      <td>NaN</td>\n    </tr>\n    <tr>\n      <th>2020-12-28</th>\n      <td>39.0</td>\n      <td>2.63</td>\n      <td>2.630000</td>\n      <td>2.36</td>\n      <td>2.39</td>\n      <td>2.39</td>\n      <td>2.394270e+07</td>\n    </tr>\n    <tr>\n      <th>2020-12-29</th>\n      <td>39.0</td>\n      <td>2.44</td>\n      <td>2.460000</td>\n      <td>2.28</td>\n      <td>2.29</td>\n      <td>2.29</td>\n      <td>2.108610e+07</td>\n    </tr>\n    <tr>\n      <th>2020-12-30</th>\n      <td>30.0</td>\n      <td>2.30</td>\n      <td>2.300000</td>\n      <td>2.13</td>\n      <td>2.16</td>\n      <td>2.16</td>\n      <td>4.027840e+07</td>\n    </tr>\n    <tr>\n      <th>2020-12-31</th>\n      <td>30.0</td>\n      <td>2.17</td>\n      <td>2.220000</td>\n      <td>2.08</td>\n      <td>2.12</td>\n      <td>2.12</td>\n      <td>2.823430e+07</td>\n    </tr>\n    <tr>\n      <th>2021-01-01</th>\n      <td>2.0</td>\n      <td>NaN</td>\n      <td>NaN</td>\n      <td>NaN</td>\n      <td>NaN</td>\n      <td>NaN</td>\n      <td>NaN</td>\n    </tr>\n    <tr>\n      <th>2021-01-02</th>\n      <td>2.0</td>\n      <td>NaN</td>\n      <td>NaN</td>\n      <td>NaN</td>\n      <td>NaN</td>\n      <td>NaN</td>\n      <td>NaN</td>\n    </tr>\n    <tr>\n      <th>2021-01-03</th>\n      <td>1.0</td>\n      <td>NaN</td>\n      <td>NaN</td>\n      <td>NaN</td>\n      <td>NaN</td>\n      <td>NaN</td>\n      <td>NaN</td>\n    </tr>\n    <tr>\n      <th>2021-01-04</th>\n      <td>4.0</td>\n      <td>2.20</td>\n      <td>2.200000</td>\n      <td>2.00</td>\n      <td>2.01</td>\n      <td>2.01</td>\n      <td>2.987380e+07</td>\n    </tr>\n    <tr>\n      <th>2021-01-05</th>\n      <td>8.0</td>\n      <td>1.99</td>\n      <td>2.030000</td>\n      <td>1.91</td>\n      <td>1.98</td>\n      <td>1.98</td>\n      <td>2.814830e+07</td>\n    </tr>\n    <tr>\n      <th>2021-01-06</th>\n      <td>5.0</td>\n      <td>2.03</td>\n      <td>2.230000</td>\n      <td>1.97</td>\n      <td>2.01</td>\n      <td>2.01</td>\n      <td>6.736330e+07</td>\n    </tr>\n    <tr>\n      <th>2021-01-07</th>\n      <td>9.0</td>\n      <td>2.08</td>\n      <td>2.110000</td>\n      <td>2.02</td>\n      <td>2.05</td>\n      <td>2.05</td>\n      <td>2.615050e+07</td>\n    </tr>\n    <tr>\n      <th>2021-01-08</th>\n      <td>4.0</td>\n      <td>2.09</td>\n      <td>2.210000</td>\n      <td>2.07</td>\n      <td>2.14</td>\n      <td>2.14</td>\n      <td>3.955330e+07</td>\n    </tr>\n    <tr>\n      <th>2021-01-09</th>\n      <td>2.0</td>\n      <td>NaN</td>\n      <td>NaN</td>\n      <td>NaN</td>\n      <td>NaN</td>\n      <td>NaN</td>\n      <td>NaN</td>\n    </tr>\n    <tr>\n      <th>2021-01-10</th>\n      <td>1.0</td>\n      <td>NaN</td>\n      <td>NaN</td>\n      <td>NaN</td>\n      <td>NaN</td>\n      <td>NaN</td>\n      <td>NaN</td>\n    </tr>\n    <tr>\n      <th>2021-01-11</th>\n      <td>4.0</td>\n      <td>2.16</td>\n      <td>2.270000</td>\n      <td>2.15</td>\n      <td>2.20</td>\n      <td>2.20</td>\n      <td>4.169580e+07</td>\n    </tr>\n    <tr>\n      <th>2021-01-12</th>\n      <td>3.0</td>\n      <td>2.24</td>\n      <td>2.390000</td>\n      <td>2.24</td>\n      <td>2.29</td>\n      <td>2.29</td>\n      <td>4.178430e+07</td>\n    </tr>\n    <tr>\n      <th>2021-01-13</th>\n      <td>5.0</td>\n      <td>2.33</td>\n      <td>2.380000</td>\n      <td>2.13</td>\n      <td>2.18</td>\n      <td>2.18</td>\n      <td>4.584770e+07</td>\n    </tr>\n    <tr>\n      <th>2021-01-14</th>\n      <td>12.0</td>\n      <td>2.22</td>\n      <td>2.320000</td>\n      <td>2.13</td>\n      <td>2.18</td>\n      <td>2.18</td>\n      <td>4.963880e+07</td>\n    </tr>\n    <tr>\n      <th>2021-01-15</th>\n      <td>61.0</td>\n      <td>2.20</td>\n      <td>2.550000</td>\n      <td>2.18</td>\n      <td>2.33</td>\n      <td>2.33</td>\n      <td>1.623564e+08</td>\n    </tr>\n    <tr>\n      <th>2021-01-16</th>\n      <td>6.0</td>\n      <td>NaN</td>\n      <td>NaN</td>\n      <td>NaN</td>\n      <td>NaN</td>\n      <td>NaN</td>\n      <td>NaN</td>\n    </tr>\n    <tr>\n      <th>2021-01-17</th>\n      <td>8.0</td>\n      <td>NaN</td>\n      <td>NaN</td>\n      <td>NaN</td>\n      <td>NaN</td>\n      <td>NaN</td>\n      <td>NaN</td>\n    </tr>\n    <tr>\n      <th>2021-01-18</th>\n      <td>52.0</td>\n      <td>NaN</td>\n      <td>NaN</td>\n      <td>NaN</td>\n      <td>NaN</td>\n      <td>NaN</td>\n      <td>NaN</td>\n    </tr>\n    <tr>\n      <th>2021-01-19</th>\n      <td>89.0</td>\n      <td>2.80</td>\n      <td>3.200000</td>\n      <td>2.57</td>\n      <td>3.06</td>\n      <td>3.06</td>\n      <td>2.562760e+08</td>\n    </tr>\n    <tr>\n      <th>2021-01-20</th>\n      <td>60.0</td>\n      <td>3.29</td>\n      <td>3.340000</td>\n      <td>2.75</td>\n      <td>2.97</td>\n      <td>2.97</td>\n      <td>1.818622e+08</td>\n    </tr>\n    <tr>\n      <th>2021-01-21</th>\n      <td>29.0</td>\n      <td>3.00</td>\n      <td>3.060000</td>\n      <td>2.85</td>\n      <td>2.98</td>\n      <td>2.98</td>\n      <td>6.482380e+07</td>\n    </tr>\n    <tr>\n      <th>2021-01-22</th>\n      <td>495.0</td>\n      <td>2.91</td>\n      <td>3.740000</td>\n      <td>2.81</td>\n      <td>3.51</td>\n      <td>3.51</td>\n      <td>2.682734e+08</td>\n    </tr>\n    <tr>\n      <th>2021-01-23</th>\n      <td>58.0</td>\n      <td>NaN</td>\n      <td>NaN</td>\n      <td>NaN</td>\n      <td>NaN</td>\n      <td>NaN</td>\n      <td>NaN</td>\n    </tr>\n    <tr>\n      <th>2021-01-24</th>\n      <td>16.0</td>\n      <td>NaN</td>\n      <td>NaN</td>\n      <td>NaN</td>\n      <td>NaN</td>\n      <td>NaN</td>\n      <td>NaN</td>\n    </tr>\n    <tr>\n      <th>2021-01-25</th>\n      <td>215.0</td>\n      <td>4.71</td>\n      <td>4.880000</td>\n      <td>3.85</td>\n      <td>4.42</td>\n      <td>4.42</td>\n      <td>4.432381e+08</td>\n    </tr>\n    <tr>\n      <th>2021-01-26</th>\n      <td>51.0</td>\n      <td>5.09</td>\n      <td>5.190000</td>\n      <td>4.37</td>\n      <td>4.96</td>\n      <td>4.96</td>\n      <td>4.568502e+08</td>\n    </tr>\n    <tr>\n      <th>2021-01-27</th>\n      <td>17025.0</td>\n      <td>20.34</td>\n      <td>20.360001</td>\n      <td>11.01</td>\n      <td>19.90</td>\n      <td>19.90</td>\n      <td>1.222342e+09</td>\n    </tr>\n    <tr>\n      <th>2021-01-28</th>\n      <td>24366.0</td>\n      <td>11.98</td>\n      <td>16.500000</td>\n      <td>6.51</td>\n      <td>8.63</td>\n      <td>8.63</td>\n      <td>5.912239e+08</td>\n    </tr>\n    <tr>\n      <th>2021-01-29</th>\n      <td>19266.0</td>\n      <td>14.31</td>\n      <td>16.000000</td>\n      <td>11.60</td>\n      <td>13.26</td>\n      <td>13.26</td>\n      <td>6.021933e+08</td>\n    </tr>\n    <tr>\n      <th>2021-01-30</th>\n      <td>15686.0</td>\n      <td>NaN</td>\n      <td>NaN</td>\n      <td>NaN</td>\n      <td>NaN</td>\n      <td>NaN</td>\n      <td>NaN</td>\n    </tr>\n    <tr>\n      <th>2021-01-31</th>\n      <td>11754.0</td>\n      <td>NaN</td>\n      <td>NaN</td>\n      <td>NaN</td>\n      <td>NaN</td>\n      <td>NaN</td>\n      <td>NaN</td>\n    </tr>\n    <tr>\n      <th>2021-02-01</th>\n      <td>19609.0</td>\n      <td>17.00</td>\n      <td>17.250000</td>\n      <td>12.91</td>\n      <td>13.30</td>\n      <td>13.30</td>\n      <td>4.346080e+08</td>\n    </tr>\n    <tr>\n      <th>2021-02-02</th>\n      <td>15521.0</td>\n      <td>9.48</td>\n      <td>10.100000</td>\n      <td>6.00</td>\n      <td>7.82</td>\n      <td>7.82</td>\n      <td>4.627759e+08</td>\n    </tr>\n    <tr>\n      <th>2021-02-03</th>\n      <td>1872.0</td>\n      <td>8.85</td>\n      <td>9.770000</td>\n      <td>7.89</td>\n      <td>8.97</td>\n      <td>8.97</td>\n      <td>2.214051e+08</td>\n    </tr>\n    <tr>\n      <th>2021-02-04</th>\n      <td>40.0</td>\n      <td>8.70</td>\n      <td>8.740000</td>\n      <td>7.00</td>\n      <td>7.09</td>\n      <td>7.09</td>\n      <td>1.629858e+08</td>\n    </tr>\n  </tbody>\n</table>\n</div>"
     },
     "metadata": {},
     "execution_count": 11
    }
   ],
   "source": [
    "amc_result = amc_count.join(amc_price)\n",
    "amc_result"
   ]
  },
  {
   "cell_type": "code",
   "execution_count": 12,
   "metadata": {},
   "outputs": [],
   "source": [
    "# for ticker in ticker_list:\n",
    "#     df[ticker, \"Mentions\"] = count_df[ticker, \"mentions\"]"
   ]
  },
  {
   "cell_type": "code",
   "execution_count": 13,
   "metadata": {},
   "outputs": [],
   "source": [
    "# df = df.sort_index(axis=1)\n",
    "# df.head()"
   ]
  },
  {
   "cell_type": "code",
   "execution_count": 14,
   "metadata": {},
   "outputs": [],
   "source": [
    "# new_df = pd.concat([df, count_df], axis=1)"
   ]
  },
  {
   "cell_type": "code",
   "execution_count": 15,
   "metadata": {},
   "outputs": [],
   "source": [
    "# new_df =new_df.sort_index(axis=1)\n",
    "# new_df"
   ]
  },
  {
   "cell_type": "code",
   "execution_count": 16,
   "metadata": {},
   "outputs": [
    {
     "output_type": "execute_result",
     "data": {
      "text/plain": [
       "                AMC     PUBM     GOGO     ISUN     CLVS      GME      SKT  \\\n",
       "           mentions mentions mentions mentions mentions mentions mentions   \n",
       "date                                                                        \n",
       "2020-12-08     11.0      2.0      6.0      0.0      0.0   1801.0      0.0   \n",
       "2020-12-09      2.0     26.0      6.0      0.0      0.0   1867.0      0.0   \n",
       "2020-12-10     23.0      3.0      1.0      0.0      0.0    571.0      0.0   \n",
       "2020-12-11     15.0      3.0      0.0      0.0      0.0    406.0      1.0   \n",
       "2020-12-12     33.0      0.0      0.0      0.0      0.0    258.0      0.0   \n",
       "\n",
       "               LGND     TRIT     ESPR  ...    RVP                              \\\n",
       "           mentions mentions mentions  ...    Low  Close Adj Close     Volume   \n",
       "date                                   ...                                      \n",
       "2020-12-08      0.0      0.0      0.0  ...   9.25   9.89      9.89  1033800.0   \n",
       "2020-12-09      0.0      0.0      0.0  ...   9.62   9.96      9.96  1222700.0   \n",
       "2020-12-10      0.0      0.0      0.0  ...   9.80  12.14     12.14  3398200.0   \n",
       "2020-12-11      0.0      0.0      0.0  ...  10.54  11.34     11.34  2235900.0   \n",
       "2020-12-12      0.0      0.0      0.0  ...    NaN    NaN       NaN        NaN   \n",
       "\n",
       "              APT                                            \n",
       "             Open   High    Low  Close Adj Close     Volume  \n",
       "date                                                         \n",
       "2020-12-08  12.50  13.50  12.22  12.99     12.99  2484700.0  \n",
       "2020-12-09  13.05  13.08  12.03  12.35     12.35  1529500.0  \n",
       "2020-12-10  12.20  12.42  12.07  12.29     12.29   591300.0  \n",
       "2020-12-11  12.30  12.54  12.10  12.10     12.10   603400.0  \n",
       "2020-12-12    NaN    NaN    NaN    NaN       NaN        NaN  \n",
       "\n",
       "[5 rows x 574 columns]"
      ],
      "text/html": "<div>\n<style scoped>\n    .dataframe tbody tr th:only-of-type {\n        vertical-align: middle;\n    }\n\n    .dataframe tbody tr th {\n        vertical-align: top;\n    }\n\n    .dataframe thead tr th {\n        text-align: left;\n    }\n\n    .dataframe thead tr:last-of-type th {\n        text-align: right;\n    }\n</style>\n<table border=\"1\" class=\"dataframe\">\n  <thead>\n    <tr>\n      <th></th>\n      <th>AMC</th>\n      <th>PUBM</th>\n      <th>GOGO</th>\n      <th>ISUN</th>\n      <th>CLVS</th>\n      <th>GME</th>\n      <th>SKT</th>\n      <th>LGND</th>\n      <th>TRIT</th>\n      <th>ESPR</th>\n      <th>...</th>\n      <th colspan=\"4\" halign=\"left\">RVP</th>\n      <th colspan=\"6\" halign=\"left\">APT</th>\n    </tr>\n    <tr>\n      <th></th>\n      <th>mentions</th>\n      <th>mentions</th>\n      <th>mentions</th>\n      <th>mentions</th>\n      <th>mentions</th>\n      <th>mentions</th>\n      <th>mentions</th>\n      <th>mentions</th>\n      <th>mentions</th>\n      <th>mentions</th>\n      <th>...</th>\n      <th>Low</th>\n      <th>Close</th>\n      <th>Adj Close</th>\n      <th>Volume</th>\n      <th>Open</th>\n      <th>High</th>\n      <th>Low</th>\n      <th>Close</th>\n      <th>Adj Close</th>\n      <th>Volume</th>\n    </tr>\n    <tr>\n      <th>date</th>\n      <th></th>\n      <th></th>\n      <th></th>\n      <th></th>\n      <th></th>\n      <th></th>\n      <th></th>\n      <th></th>\n      <th></th>\n      <th></th>\n      <th></th>\n      <th></th>\n      <th></th>\n      <th></th>\n      <th></th>\n      <th></th>\n      <th></th>\n      <th></th>\n      <th></th>\n      <th></th>\n      <th></th>\n    </tr>\n  </thead>\n  <tbody>\n    <tr>\n      <th>2020-12-08</th>\n      <td>11.0</td>\n      <td>2.0</td>\n      <td>6.0</td>\n      <td>0.0</td>\n      <td>0.0</td>\n      <td>1801.0</td>\n      <td>0.0</td>\n      <td>0.0</td>\n      <td>0.0</td>\n      <td>0.0</td>\n      <td>...</td>\n      <td>9.25</td>\n      <td>9.89</td>\n      <td>9.89</td>\n      <td>1033800.0</td>\n      <td>12.50</td>\n      <td>13.50</td>\n      <td>12.22</td>\n      <td>12.99</td>\n      <td>12.99</td>\n      <td>2484700.0</td>\n    </tr>\n    <tr>\n      <th>2020-12-09</th>\n      <td>2.0</td>\n      <td>26.0</td>\n      <td>6.0</td>\n      <td>0.0</td>\n      <td>0.0</td>\n      <td>1867.0</td>\n      <td>0.0</td>\n      <td>0.0</td>\n      <td>0.0</td>\n      <td>0.0</td>\n      <td>...</td>\n      <td>9.62</td>\n      <td>9.96</td>\n      <td>9.96</td>\n      <td>1222700.0</td>\n      <td>13.05</td>\n      <td>13.08</td>\n      <td>12.03</td>\n      <td>12.35</td>\n      <td>12.35</td>\n      <td>1529500.0</td>\n    </tr>\n    <tr>\n      <th>2020-12-10</th>\n      <td>23.0</td>\n      <td>3.0</td>\n      <td>1.0</td>\n      <td>0.0</td>\n      <td>0.0</td>\n      <td>571.0</td>\n      <td>0.0</td>\n      <td>0.0</td>\n      <td>0.0</td>\n      <td>0.0</td>\n      <td>...</td>\n      <td>9.80</td>\n      <td>12.14</td>\n      <td>12.14</td>\n      <td>3398200.0</td>\n      <td>12.20</td>\n      <td>12.42</td>\n      <td>12.07</td>\n      <td>12.29</td>\n      <td>12.29</td>\n      <td>591300.0</td>\n    </tr>\n    <tr>\n      <th>2020-12-11</th>\n      <td>15.0</td>\n      <td>3.0</td>\n      <td>0.0</td>\n      <td>0.0</td>\n      <td>0.0</td>\n      <td>406.0</td>\n      <td>1.0</td>\n      <td>0.0</td>\n      <td>0.0</td>\n      <td>0.0</td>\n      <td>...</td>\n      <td>10.54</td>\n      <td>11.34</td>\n      <td>11.34</td>\n      <td>2235900.0</td>\n      <td>12.30</td>\n      <td>12.54</td>\n      <td>12.10</td>\n      <td>12.10</td>\n      <td>12.10</td>\n      <td>603400.0</td>\n    </tr>\n    <tr>\n      <th>2020-12-12</th>\n      <td>33.0</td>\n      <td>0.0</td>\n      <td>0.0</td>\n      <td>0.0</td>\n      <td>0.0</td>\n      <td>258.0</td>\n      <td>0.0</td>\n      <td>0.0</td>\n      <td>0.0</td>\n      <td>0.0</td>\n      <td>...</td>\n      <td>NaN</td>\n      <td>NaN</td>\n      <td>NaN</td>\n      <td>NaN</td>\n      <td>NaN</td>\n      <td>NaN</td>\n      <td>NaN</td>\n      <td>NaN</td>\n      <td>NaN</td>\n      <td>NaN</td>\n    </tr>\n  </tbody>\n</table>\n<p>5 rows × 574 columns</p>\n</div>"
     },
     "metadata": {},
     "execution_count": 16
    }
   ],
   "source": [
    "joined_df = count_df.join(df)\n",
    "joined_df.head()"
   ]
  },
  {
   "cell_type": "code",
   "execution_count": 17,
   "metadata": {},
   "outputs": [
    {
     "output_type": "execute_result",
     "data": {
      "text/plain": [
       "                AMC     PUBM     GOGO     ISUN     CLVS      GME      SKT  \\\n",
       "           mentions mentions mentions mentions mentions mentions mentions   \n",
       "date                                                                        \n",
       "2020-12-08     11.0      2.0      6.0      0.0      0.0   1801.0      0.0   \n",
       "2020-12-09      2.0     26.0      6.0      0.0      0.0   1867.0      0.0   \n",
       "2020-12-10     23.0      3.0      1.0      0.0      0.0    571.0      0.0   \n",
       "2020-12-11     15.0      3.0      0.0      0.0      0.0    406.0      1.0   \n",
       "2020-12-12     33.0      0.0      0.0      0.0      0.0    258.0      0.0   \n",
       "\n",
       "               LGND     TRIT     ESPR  ...    RVP                              \\\n",
       "           mentions mentions mentions  ...    Low  Close Adj Close     Volume   \n",
       "date                                   ...                                      \n",
       "2020-12-08      0.0      0.0      0.0  ...   9.25   9.89      9.89  1033800.0   \n",
       "2020-12-09      0.0      0.0      0.0  ...   9.62   9.96      9.96  1222700.0   \n",
       "2020-12-10      0.0      0.0      0.0  ...   9.80  12.14     12.14  3398200.0   \n",
       "2020-12-11      0.0      0.0      0.0  ...  10.54  11.34     11.34  2235900.0   \n",
       "2020-12-12      0.0      0.0      0.0  ...    NaN    NaN       NaN        NaN   \n",
       "\n",
       "              APT                                            \n",
       "             Open   High    Low  Close Adj Close     Volume  \n",
       "date                                                         \n",
       "2020-12-08  12.50  13.50  12.22  12.99     12.99  2484700.0  \n",
       "2020-12-09  13.05  13.08  12.03  12.35     12.35  1529500.0  \n",
       "2020-12-10  12.20  12.42  12.07  12.29     12.29   591300.0  \n",
       "2020-12-11  12.30  12.54  12.10  12.10     12.10   603400.0  \n",
       "2020-12-12    NaN    NaN    NaN    NaN       NaN        NaN  \n",
       "\n",
       "[5 rows x 574 columns]"
      ],
      "text/html": "<div>\n<style scoped>\n    .dataframe tbody tr th:only-of-type {\n        vertical-align: middle;\n    }\n\n    .dataframe tbody tr th {\n        vertical-align: top;\n    }\n\n    .dataframe thead tr th {\n        text-align: left;\n    }\n\n    .dataframe thead tr:last-of-type th {\n        text-align: right;\n    }\n</style>\n<table border=\"1\" class=\"dataframe\">\n  <thead>\n    <tr>\n      <th></th>\n      <th>AMC</th>\n      <th>PUBM</th>\n      <th>GOGO</th>\n      <th>ISUN</th>\n      <th>CLVS</th>\n      <th>GME</th>\n      <th>SKT</th>\n      <th>LGND</th>\n      <th>TRIT</th>\n      <th>ESPR</th>\n      <th>...</th>\n      <th colspan=\"4\" halign=\"left\">RVP</th>\n      <th colspan=\"6\" halign=\"left\">APT</th>\n    </tr>\n    <tr>\n      <th></th>\n      <th>mentions</th>\n      <th>mentions</th>\n      <th>mentions</th>\n      <th>mentions</th>\n      <th>mentions</th>\n      <th>mentions</th>\n      <th>mentions</th>\n      <th>mentions</th>\n      <th>mentions</th>\n      <th>mentions</th>\n      <th>...</th>\n      <th>Low</th>\n      <th>Close</th>\n      <th>Adj Close</th>\n      <th>Volume</th>\n      <th>Open</th>\n      <th>High</th>\n      <th>Low</th>\n      <th>Close</th>\n      <th>Adj Close</th>\n      <th>Volume</th>\n    </tr>\n    <tr>\n      <th>date</th>\n      <th></th>\n      <th></th>\n      <th></th>\n      <th></th>\n      <th></th>\n      <th></th>\n      <th></th>\n      <th></th>\n      <th></th>\n      <th></th>\n      <th></th>\n      <th></th>\n      <th></th>\n      <th></th>\n      <th></th>\n      <th></th>\n      <th></th>\n      <th></th>\n      <th></th>\n      <th></th>\n      <th></th>\n    </tr>\n  </thead>\n  <tbody>\n    <tr>\n      <th>2020-12-08</th>\n      <td>11.0</td>\n      <td>2.0</td>\n      <td>6.0</td>\n      <td>0.0</td>\n      <td>0.0</td>\n      <td>1801.0</td>\n      <td>0.0</td>\n      <td>0.0</td>\n      <td>0.0</td>\n      <td>0.0</td>\n      <td>...</td>\n      <td>9.25</td>\n      <td>9.89</td>\n      <td>9.89</td>\n      <td>1033800.0</td>\n      <td>12.50</td>\n      <td>13.50</td>\n      <td>12.22</td>\n      <td>12.99</td>\n      <td>12.99</td>\n      <td>2484700.0</td>\n    </tr>\n    <tr>\n      <th>2020-12-09</th>\n      <td>2.0</td>\n      <td>26.0</td>\n      <td>6.0</td>\n      <td>0.0</td>\n      <td>0.0</td>\n      <td>1867.0</td>\n      <td>0.0</td>\n      <td>0.0</td>\n      <td>0.0</td>\n      <td>0.0</td>\n      <td>...</td>\n      <td>9.62</td>\n      <td>9.96</td>\n      <td>9.96</td>\n      <td>1222700.0</td>\n      <td>13.05</td>\n      <td>13.08</td>\n      <td>12.03</td>\n      <td>12.35</td>\n      <td>12.35</td>\n      <td>1529500.0</td>\n    </tr>\n    <tr>\n      <th>2020-12-10</th>\n      <td>23.0</td>\n      <td>3.0</td>\n      <td>1.0</td>\n      <td>0.0</td>\n      <td>0.0</td>\n      <td>571.0</td>\n      <td>0.0</td>\n      <td>0.0</td>\n      <td>0.0</td>\n      <td>0.0</td>\n      <td>...</td>\n      <td>9.80</td>\n      <td>12.14</td>\n      <td>12.14</td>\n      <td>3398200.0</td>\n      <td>12.20</td>\n      <td>12.42</td>\n      <td>12.07</td>\n      <td>12.29</td>\n      <td>12.29</td>\n      <td>591300.0</td>\n    </tr>\n    <tr>\n      <th>2020-12-11</th>\n      <td>15.0</td>\n      <td>3.0</td>\n      <td>0.0</td>\n      <td>0.0</td>\n      <td>0.0</td>\n      <td>406.0</td>\n      <td>1.0</td>\n      <td>0.0</td>\n      <td>0.0</td>\n      <td>0.0</td>\n      <td>...</td>\n      <td>10.54</td>\n      <td>11.34</td>\n      <td>11.34</td>\n      <td>2235900.0</td>\n      <td>12.30</td>\n      <td>12.54</td>\n      <td>12.10</td>\n      <td>12.10</td>\n      <td>12.10</td>\n      <td>603400.0</td>\n    </tr>\n    <tr>\n      <th>2020-12-12</th>\n      <td>33.0</td>\n      <td>0.0</td>\n      <td>0.0</td>\n      <td>0.0</td>\n      <td>0.0</td>\n      <td>258.0</td>\n      <td>0.0</td>\n      <td>0.0</td>\n      <td>0.0</td>\n      <td>0.0</td>\n      <td>...</td>\n      <td>NaN</td>\n      <td>NaN</td>\n      <td>NaN</td>\n      <td>NaN</td>\n      <td>NaN</td>\n      <td>NaN</td>\n      <td>NaN</td>\n      <td>NaN</td>\n      <td>NaN</td>\n      <td>NaN</td>\n    </tr>\n  </tbody>\n</table>\n<p>5 rows × 574 columns</p>\n</div>"
     },
     "metadata": {},
     "execution_count": 17
    }
   ],
   "source": [
    "joined_df.sort_index(axis=1)\n",
    "joined_df.head()"
   ]
  },
  {
   "cell_type": "code",
   "execution_count": 54,
   "metadata": {},
   "outputs": [],
   "source": [
    "stack = joined_df.stack(list(range(joined_df.columns.nlevels - 1)))"
   ]
  },
  {
   "cell_type": "code",
   "execution_count": 55,
   "metadata": {},
   "outputs": [],
   "source": [
    "stack = pd.DataFrame(stack)"
   ]
  },
  {
   "cell_type": "code",
   "execution_count": 56,
   "metadata": {},
   "outputs": [
    {
     "output_type": "execute_result",
     "data": {
      "text/plain": [
       "                  Adj Close       Close        High         Low        Open  \\\n",
       "date                                                                          \n",
       "2020-12-08 AAL    17.629999   17.629999   17.920000   17.160000   17.469999   \n",
       "           AAPL  124.194412  124.379997  124.980003  123.089996  124.370003   \n",
       "           ALOT   11.680000   11.680000   11.740000   11.500000   11.520000   \n",
       "           AMC     3.980000    3.980000    4.020000    3.610000    3.610000   \n",
       "           AMCX   31.070000   31.070000   32.139999   30.889999   31.280001   \n",
       "...                     ...         ...         ...         ...         ...   \n",
       "2021-02-04 TRHC   53.450001   53.450001   54.490002   52.770000   54.290001   \n",
       "           TRIT    6.920000    6.920000    7.160000    6.900000    7.150000   \n",
       "           TSLA  849.989990  849.989990  856.500000  833.419983  855.000000   \n",
       "           VXRT    9.050000    9.050000   10.500000    8.910000    9.940000   \n",
       "           ZYXI   18.160000   18.160000   18.980000   17.910000   18.910000   \n",
       "\n",
       "                     Volume  mentions  \n",
       "date                                   \n",
       "2020-12-08 AAL   95855400.0      21.0  \n",
       "           AAPL  82225500.0      88.0  \n",
       "           ALOT     27100.0       4.0  \n",
       "           AMC   29530600.0      11.0  \n",
       "           AMCX    591300.0       0.0  \n",
       "...                     ...       ...  \n",
       "2021-02-04 TRHC    331900.0       0.0  \n",
       "           TRIT   4005300.0       0.0  \n",
       "           TSLA  15812700.0       0.0  \n",
       "           VXRT  37896600.0       0.0  \n",
       "           ZYXI    559300.0       0.0  \n",
       "\n",
       "[4838 rows x 7 columns]"
      ],
      "text/html": "<div>\n<style scoped>\n    .dataframe tbody tr th:only-of-type {\n        vertical-align: middle;\n    }\n\n    .dataframe tbody tr th {\n        vertical-align: top;\n    }\n\n    .dataframe thead th {\n        text-align: right;\n    }\n</style>\n<table border=\"1\" class=\"dataframe\">\n  <thead>\n    <tr style=\"text-align: right;\">\n      <th></th>\n      <th></th>\n      <th>Adj Close</th>\n      <th>Close</th>\n      <th>High</th>\n      <th>Low</th>\n      <th>Open</th>\n      <th>Volume</th>\n      <th>mentions</th>\n    </tr>\n    <tr>\n      <th>date</th>\n      <th></th>\n      <th></th>\n      <th></th>\n      <th></th>\n      <th></th>\n      <th></th>\n      <th></th>\n      <th></th>\n    </tr>\n  </thead>\n  <tbody>\n    <tr>\n      <th rowspan=\"5\" valign=\"top\">2020-12-08</th>\n      <th>AAL</th>\n      <td>17.629999</td>\n      <td>17.629999</td>\n      <td>17.920000</td>\n      <td>17.160000</td>\n      <td>17.469999</td>\n      <td>95855400.0</td>\n      <td>21.0</td>\n    </tr>\n    <tr>\n      <th>AAPL</th>\n      <td>124.194412</td>\n      <td>124.379997</td>\n      <td>124.980003</td>\n      <td>123.089996</td>\n      <td>124.370003</td>\n      <td>82225500.0</td>\n      <td>88.0</td>\n    </tr>\n    <tr>\n      <th>ALOT</th>\n      <td>11.680000</td>\n      <td>11.680000</td>\n      <td>11.740000</td>\n      <td>11.500000</td>\n      <td>11.520000</td>\n      <td>27100.0</td>\n      <td>4.0</td>\n    </tr>\n    <tr>\n      <th>AMC</th>\n      <td>3.980000</td>\n      <td>3.980000</td>\n      <td>4.020000</td>\n      <td>3.610000</td>\n      <td>3.610000</td>\n      <td>29530600.0</td>\n      <td>11.0</td>\n    </tr>\n    <tr>\n      <th>AMCX</th>\n      <td>31.070000</td>\n      <td>31.070000</td>\n      <td>32.139999</td>\n      <td>30.889999</td>\n      <td>31.280001</td>\n      <td>591300.0</td>\n      <td>0.0</td>\n    </tr>\n    <tr>\n      <th>...</th>\n      <th>...</th>\n      <td>...</td>\n      <td>...</td>\n      <td>...</td>\n      <td>...</td>\n      <td>...</td>\n      <td>...</td>\n      <td>...</td>\n    </tr>\n    <tr>\n      <th rowspan=\"5\" valign=\"top\">2021-02-04</th>\n      <th>TRHC</th>\n      <td>53.450001</td>\n      <td>53.450001</td>\n      <td>54.490002</td>\n      <td>52.770000</td>\n      <td>54.290001</td>\n      <td>331900.0</td>\n      <td>0.0</td>\n    </tr>\n    <tr>\n      <th>TRIT</th>\n      <td>6.920000</td>\n      <td>6.920000</td>\n      <td>7.160000</td>\n      <td>6.900000</td>\n      <td>7.150000</td>\n      <td>4005300.0</td>\n      <td>0.0</td>\n    </tr>\n    <tr>\n      <th>TSLA</th>\n      <td>849.989990</td>\n      <td>849.989990</td>\n      <td>856.500000</td>\n      <td>833.419983</td>\n      <td>855.000000</td>\n      <td>15812700.0</td>\n      <td>0.0</td>\n    </tr>\n    <tr>\n      <th>VXRT</th>\n      <td>9.050000</td>\n      <td>9.050000</td>\n      <td>10.500000</td>\n      <td>8.910000</td>\n      <td>9.940000</td>\n      <td>37896600.0</td>\n      <td>0.0</td>\n    </tr>\n    <tr>\n      <th>ZYXI</th>\n      <td>18.160000</td>\n      <td>18.160000</td>\n      <td>18.980000</td>\n      <td>17.910000</td>\n      <td>18.910000</td>\n      <td>559300.0</td>\n      <td>0.0</td>\n    </tr>\n  </tbody>\n</table>\n<p>4838 rows × 7 columns</p>\n</div>"
     },
     "metadata": {},
     "execution_count": 56
    }
   ],
   "source": [
    "stack"
   ]
  },
  {
   "cell_type": "code",
   "execution_count": 32,
   "metadata": {},
   "outputs": [],
   "source": [
    "stack.to_csv(\"../Data/mentions_price_by_day.csv\")"
   ]
  },
  {
   "cell_type": "code",
   "execution_count": 61,
   "metadata": {},
   "outputs": [],
   "source": [
    "test = pd.read_csv(\"../Data/mentions_price_by_day.csv\", header=[0], index_col=[0,1])"
   ]
  },
  {
   "cell_type": "code",
   "execution_count": 62,
   "metadata": {},
   "outputs": [
    {
     "output_type": "execute_result",
     "data": {
      "text/plain": [
       "                  Adj Close       Close        High         Low        Open  \\\n",
       "date                                                                          \n",
       "2020-12-08 AAL    17.629999   17.629999   17.920000   17.160000   17.469999   \n",
       "           AAPL  124.194412  124.379997  124.980003  123.089996  124.370003   \n",
       "           ALOT   11.680000   11.680000   11.740000   11.500000   11.520000   \n",
       "           AMC     3.980000    3.980000    4.020000    3.610000    3.610000   \n",
       "           AMCX   31.070000   31.070000   32.139999   30.889999   31.280001   \n",
       "...                     ...         ...         ...         ...         ...   \n",
       "2021-02-04 TRHC   53.450001   53.450001   54.490002   52.770000   54.290001   \n",
       "           TRIT    6.920000    6.920000    7.160000    6.900000    7.150000   \n",
       "           TSLA  849.989990  849.989990  856.500000  833.419983  855.000000   \n",
       "           VXRT    9.050000    9.050000   10.500000    8.910000    9.940000   \n",
       "           ZYXI   18.160000   18.160000   18.980000   17.910000   18.910000   \n",
       "\n",
       "                     Volume  mentions  \n",
       "date                                   \n",
       "2020-12-08 AAL   95855400.0      21.0  \n",
       "           AAPL  82225500.0      88.0  \n",
       "           ALOT     27100.0       4.0  \n",
       "           AMC   29530600.0      11.0  \n",
       "           AMCX    591300.0       0.0  \n",
       "...                     ...       ...  \n",
       "2021-02-04 TRHC    331900.0       0.0  \n",
       "           TRIT   4005300.0       0.0  \n",
       "           TSLA  15812700.0       0.0  \n",
       "           VXRT  37896600.0       0.0  \n",
       "           ZYXI    559300.0       0.0  \n",
       "\n",
       "[4838 rows x 7 columns]"
      ],
      "text/html": "<div>\n<style scoped>\n    .dataframe tbody tr th:only-of-type {\n        vertical-align: middle;\n    }\n\n    .dataframe tbody tr th {\n        vertical-align: top;\n    }\n\n    .dataframe thead th {\n        text-align: right;\n    }\n</style>\n<table border=\"1\" class=\"dataframe\">\n  <thead>\n    <tr style=\"text-align: right;\">\n      <th></th>\n      <th></th>\n      <th>Adj Close</th>\n      <th>Close</th>\n      <th>High</th>\n      <th>Low</th>\n      <th>Open</th>\n      <th>Volume</th>\n      <th>mentions</th>\n    </tr>\n    <tr>\n      <th>date</th>\n      <th></th>\n      <th></th>\n      <th></th>\n      <th></th>\n      <th></th>\n      <th></th>\n      <th></th>\n      <th></th>\n    </tr>\n  </thead>\n  <tbody>\n    <tr>\n      <th rowspan=\"5\" valign=\"top\">2020-12-08</th>\n      <th>AAL</th>\n      <td>17.629999</td>\n      <td>17.629999</td>\n      <td>17.920000</td>\n      <td>17.160000</td>\n      <td>17.469999</td>\n      <td>95855400.0</td>\n      <td>21.0</td>\n    </tr>\n    <tr>\n      <th>AAPL</th>\n      <td>124.194412</td>\n      <td>124.379997</td>\n      <td>124.980003</td>\n      <td>123.089996</td>\n      <td>124.370003</td>\n      <td>82225500.0</td>\n      <td>88.0</td>\n    </tr>\n    <tr>\n      <th>ALOT</th>\n      <td>11.680000</td>\n      <td>11.680000</td>\n      <td>11.740000</td>\n      <td>11.500000</td>\n      <td>11.520000</td>\n      <td>27100.0</td>\n      <td>4.0</td>\n    </tr>\n    <tr>\n      <th>AMC</th>\n      <td>3.980000</td>\n      <td>3.980000</td>\n      <td>4.020000</td>\n      <td>3.610000</td>\n      <td>3.610000</td>\n      <td>29530600.0</td>\n      <td>11.0</td>\n    </tr>\n    <tr>\n      <th>AMCX</th>\n      <td>31.070000</td>\n      <td>31.070000</td>\n      <td>32.139999</td>\n      <td>30.889999</td>\n      <td>31.280001</td>\n      <td>591300.0</td>\n      <td>0.0</td>\n    </tr>\n    <tr>\n      <th>...</th>\n      <th>...</th>\n      <td>...</td>\n      <td>...</td>\n      <td>...</td>\n      <td>...</td>\n      <td>...</td>\n      <td>...</td>\n      <td>...</td>\n    </tr>\n    <tr>\n      <th rowspan=\"5\" valign=\"top\">2021-02-04</th>\n      <th>TRHC</th>\n      <td>53.450001</td>\n      <td>53.450001</td>\n      <td>54.490002</td>\n      <td>52.770000</td>\n      <td>54.290001</td>\n      <td>331900.0</td>\n      <td>0.0</td>\n    </tr>\n    <tr>\n      <th>TRIT</th>\n      <td>6.920000</td>\n      <td>6.920000</td>\n      <td>7.160000</td>\n      <td>6.900000</td>\n      <td>7.150000</td>\n      <td>4005300.0</td>\n      <td>0.0</td>\n    </tr>\n    <tr>\n      <th>TSLA</th>\n      <td>849.989990</td>\n      <td>849.989990</td>\n      <td>856.500000</td>\n      <td>833.419983</td>\n      <td>855.000000</td>\n      <td>15812700.0</td>\n      <td>0.0</td>\n    </tr>\n    <tr>\n      <th>VXRT</th>\n      <td>9.050000</td>\n      <td>9.050000</td>\n      <td>10.500000</td>\n      <td>8.910000</td>\n      <td>9.940000</td>\n      <td>37896600.0</td>\n      <td>0.0</td>\n    </tr>\n    <tr>\n      <th>ZYXI</th>\n      <td>18.160000</td>\n      <td>18.160000</td>\n      <td>18.980000</td>\n      <td>17.910000</td>\n      <td>18.910000</td>\n      <td>559300.0</td>\n      <td>0.0</td>\n    </tr>\n  </tbody>\n</table>\n<p>4838 rows × 7 columns</p>\n</div>"
     },
     "metadata": {},
     "execution_count": 62
    }
   ],
   "source": [
    "test"
   ]
  },
  {
   "cell_type": "code",
   "execution_count": 59,
   "metadata": {},
   "outputs": [],
   "source": [
    "test.to_sql(\"price_mentions\")"
   ]
  },
  {
   "cell_type": "code",
   "execution_count": 60,
   "metadata": {},
   "outputs": [
    {
     "output_type": "execute_result",
     "data": {
      "text/plain": [
       "MultiIndex([(  17.6299991607666,   17.6299991607666, 17.920000076293945, ...),\n",
       "            (124.19441223144531, 124.37999725341795,  124.9800033569336, ...),\n",
       "            ( 11.68000030517578,  11.68000030517578, 11.739999771118164, ...),\n",
       "            (3.9800000190734863, 3.9800000190734863,  4.019999980926514, ...),\n",
       "            ( 31.06999969482422,  31.06999969482422, 32.139999389648445, ...),\n",
       "            (  43.9900016784668,   43.9900016784668,  44.27999877929688, ...),\n",
       "            (12.989999771118164, 12.989999771118164,               13.5, ...),\n",
       "            (15.960000038146973, 15.960000038146973, 16.200000762939453, ...),\n",
       "            (7.4099998474121085, 7.4099998474121085,  7.449999809265138, ...),\n",
       "            ( 18.59000015258789,  18.59000015258789,  19.51000022888184, ...),\n",
       "            ...\n",
       "            ( 53.81000137329102,  53.81000137329102,  54.61999893188477, ...),\n",
       "            (  58.2400016784668,   58.2400016784668,  58.41999816894531, ...),\n",
       "            ( 3.119999885559082,  3.119999885559082, 3.1800000667572017, ...),\n",
       "            ( 26.78000068664551,  26.78000068664551, 27.399999618530273, ...),\n",
       "            (31.420000076293945, 31.420000076293945,              32.25, ...),\n",
       "            ( 53.45000076293945,  53.45000076293945,   54.4900016784668, ...),\n",
       "            ( 6.920000076293945,  6.920000076293945, 7.1599998474121085, ...),\n",
       "            (  849.989990234375,   849.989990234375,              856.5, ...),\n",
       "            ( 9.050000190734863,  9.050000190734863,               10.5, ...),\n",
       "            ( 18.15999984741211,  18.15999984741211, 18.979999542236328, ...)],\n",
       "           names=['Adj Close', 'Close', 'High', 'Low', 'Open', 'Volume', 'mentions'], length=4838)"
      ]
     },
     "metadata": {},
     "execution_count": 60
    }
   ],
   "source": [
    "test"
   ]
  },
  {
   "cell_type": "code",
   "execution_count": null,
   "metadata": {},
   "outputs": [],
   "source": []
  }
 ]
}