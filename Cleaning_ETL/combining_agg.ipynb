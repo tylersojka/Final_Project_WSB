{
 "metadata": {
  "language_info": {
   "codemirror_mode": {
    "name": "ipython",
    "version": 3
   },
   "file_extension": ".py",
   "mimetype": "text/x-python",
   "name": "python",
   "nbconvert_exporter": "python",
   "pygments_lexer": "ipython3",
   "version": "3.7.9-final"
  },
  "orig_nbformat": 2,
  "kernelspec": {
   "name": "python3",
   "display_name": "Python 3.7.9 64-bit ('mlenv': conda)",
   "metadata": {
    "interpreter": {
     "hash": "048dad420f067fed17ce0fa3745b2d42d3aa5960af8b063192d7d7c1cf436e55"
    }
   }
  }
 },
 "nbformat": 4,
 "nbformat_minor": 2,
 "cells": [
  {
   "cell_type": "code",
   "execution_count": 1,
   "metadata": {},
   "outputs": [],
   "source": [
    "import pandas as pd"
   ]
  },
  {
   "cell_type": "code",
   "execution_count": 2,
   "metadata": {},
   "outputs": [],
   "source": [
    "# set paths to all datasources to be combined\n",
    "body_path = (\"../Data/comment_body_count_agg.csv\")\n",
    "title_path = (\"../Data/post_title_count_agg.csv\")\n",
    "selftext_path = (\"../Data/post_selftext_count_agg.csv\")"
   ]
  },
  {
   "cell_type": "code",
   "execution_count": 3,
   "metadata": {},
   "outputs": [],
   "source": [
    "# create df for each datasource to be combined\n",
    "body_df = pd.read_csv(body_path)\n",
    "title_df = pd.read_csv(title_path)\n",
    "selftext_df = pd.read_csv(selftext_path)\n"
   ]
  },
  {
   "cell_type": "code",
   "execution_count": 4,
   "metadata": {},
   "outputs": [],
   "source": [
    "# reset the index bc it was saved as first column\n",
    "body_df.index=body_df[\"date\"]\n",
    "title_df.index=title_df[\"date\"]\n",
    "selftext_df.index=selftext_df[\"date\"]\n",
    "\n",
    "# drop old date column \n",
    "body_df = body_df.drop([\"date\"],1)\n",
    "title_df = title_df.drop([\"date\"],1)\n",
    "selftext_df = selftext_df.drop([\"date\"],1)"
   ]
  },
  {
   "cell_type": "code",
   "execution_count": 5,
   "metadata": {},
   "outputs": [],
   "source": [
    "# combine all dataframes, some of the dataframes are missing days of data, so fill_value=0 sets those to 0 so it doesnt throw errors\n",
    "combo_agg_df = title_df.add(selftext_df, fill_value=0).add(body_df, fill_value=0)"
   ]
  },
  {
   "cell_type": "code",
   "execution_count": 6,
   "metadata": {},
   "outputs": [],
   "source": [
    "combo_agg_df.to_csv(\"../Data/combo_count_agg.csv\")"
   ]
  },
  {
   "cell_type": "code",
   "execution_count": 15,
   "metadata": {},
   "outputs": [],
   "source": [
    "# create multiindex to allow for aggregated open close volume data to be added\n",
    "combo_agg_df.columns = pd.MultiIndex.from_product([combo_agg_df.columns, [\"mentions\"]])"
   ]
  },
  {
   "cell_type": "code",
   "execution_count": 17,
   "metadata": {},
   "outputs": [],
   "source": [
    "# save the df to csv to access later\n",
    "combo_agg_df.to_csv(\"../Data/combo_count_multiindex.csv\")"
   ]
  },
  {
   "cell_type": "code",
   "execution_count": null,
   "metadata": {},
   "outputs": [],
   "source": []
  }
 ]
}