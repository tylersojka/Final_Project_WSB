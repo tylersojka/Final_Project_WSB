{
 "metadata": {
  "language_info": {
   "codemirror_mode": {
    "name": "ipython",
    "version": 3
   },
   "file_extension": ".py",
   "mimetype": "text/x-python",
   "name": "python",
   "nbconvert_exporter": "python",
   "pygments_lexer": "ipython3",
   "version": "3.7.9-final"
  },
  "orig_nbformat": 2,
  "kernelspec": {
   "name": "python3",
   "display_name": "Python 3.7.9 64-bit ('mlenv': conda)",
   "metadata": {
    "interpreter": {
     "hash": "048dad420f067fed17ce0fa3745b2d42d3aa5960af8b063192d7d7c1cf436e55"
    }
   }
  }
 },
 "nbformat": 4,
 "nbformat_minor": 2,
 "cells": [
  {
   "cell_type": "code",
   "execution_count": 3,
   "metadata": {},
   "outputs": [],
   "source": [
    "# This Python script connects to a PostgreSQL database and utilizes Pandas to obtain data and create a data frame\n",
    "# A initialization and configuration file is used to protect the author's login credentials\n",
    "from sqlalchemy import create_engine\n",
    "import psycopg2\n",
    "import pandas as pd\n",
    "import numpy as np\n",
    "# import modin.pandas as pd\n",
    "\n",
    "# Import the 'config' funtion from the config.py file\n",
    "# from config import config\n",
    "\n",
    "# Establish a connection to the database by creating a cursor object\n",
    "\n",
    "# Obtain the configuration parameters\n",
    "# params = config()\n",
    "\n",
    "# Connect to the PostgreSQL database using psychopg2\n",
    "# conn = psycopg2.connect(**params)\n",
    "# Create a new cursor\n",
    "# cur = conn.cursor()\n",
    "\n",
    "# connect to the postgresql database using sqlalchemy (useful for the pandas.to_sql method to make tables)\n",
    "engine = create_engine(os.getenv(\"postgres_uri\"))\n"
   ]
  },
  {
   "cell_type": "code",
   "execution_count": 4,
   "metadata": {},
   "outputs": [],
   "source": [
    "# Create paths to all tables that need to be created to make dataframes of them first\n",
    "\n",
    "cleaned_wsb_comments_path = \"../Data/cleaned_wsb_comments.csv\"\n",
    "cleaned_wsb_posts_path = \"../Data/cleaned_wsb_posts.csv\"\n",
    "combo_count_agg_path = \"../Data/combo_count_agg.csv\"\n",
    "combo_count_multiindex_path = \"../Data/combo_count_multiindex.csv\"\n",
    "comment_body_count_agg_path = \"../Data/comment_body_count_agg.csv\"\n",
    "final_ticker_list_path = \"../Data/final_ticker_list.csv\"\n",
    "post_selftext_count_agg_path = \"../Data/post_selftext_count_agg.csv\"\n",
    "post_selftext_count_df_path = \"../Data/post_selftext_count_df.csv\"\n",
    "post_title_count_agg_path = \"../Data/post_title_count_agg.csv\"\n",
    "post_title_count_df_path = \"../Data/post_title_count_df.csv\"\n",
    "wallstreetbets_comments_path = \"../Data/wallstreetbets_comments.csv\"\n",
    "wallstreetbets_posts_path = \"../Data/wallstreetbets_posts.csv\"\n",
    "\n"
   ]
  },
  {
   "cell_type": "code",
   "execution_count": 5,
   "metadata": {},
   "outputs": [
    {
     "output_type": "stream",
     "name": "stderr",
     "text": [
      "<string>:2: DtypeWarning: Columns (4) have mixed types.Specify dtype option on import or set low_memory=False.\n",
      "<string>:2: DtypeWarning: Columns (4,81,82,83,84) have mixed types.Specify dtype option on import or set low_memory=False.\n",
      "CPU times: user 2min 6s, sys: 28.9 s, total: 2min 35s\n",
      "Wall time: 2min 41s\n"
     ]
    }
   ],
   "source": [
    "%%time\n",
    "cleaned_wsb_comments = pd.read_csv(cleaned_wsb_comments_path)\n",
    "cleaned_wsb_posts = pd.read_csv(cleaned_wsb_posts_path)\n",
    "combo_count_agg = pd.read_csv(combo_count_agg_path)\n",
    "combo_count_multiindex = pd.read_csv(combo_count_multiindex_path)\n",
    "comment_body_count_agg = pd.read_csv(comment_body_count_agg_path)\n",
    "final_ticker_list = pd.read_csv(final_ticker_list_path)\n",
    "post_selftext_count_agg = pd.read_csv(post_selftext_count_agg_path)\n",
    "post_selftext_count_df = pd.read_csv(post_selftext_count_df_path)\n",
    "post_title_count_agg = pd.read_csv(post_title_count_agg_path)\n",
    "post_title_count_df = pd.read_csv(post_title_count_df_path)\n",
    "wallstreetbets_comments = pd.read_csv(wallstreetbets_comments_path)\n",
    "wallstreetbets_posts = pd.read_csv(wallstreetbets_posts_path)"
   ]
  },
  {
   "cell_type": "code",
   "execution_count": 6,
   "metadata": {},
   "outputs": [],
   "source": [
    "mentions_price = pd.read_csv(\"../Data/mentions_price_by_day.csv\")"
   ]
  },
  {
   "cell_type": "code",
   "execution_count": 7,
   "metadata": {},
   "outputs": [
    {
     "output_type": "stream",
     "name": "stdout",
     "text": [
      "CPU times: user 4 µs, sys: 0 ns, total: 4 µs\nWall time: 9.06 µs\n"
     ]
    }
   ],
   "source": [
    "%%time\n",
    "# cleaned_wsb_comments.to_sql('cleaned_wsb_comments', con=engine, index=False, if_exists=\"append\", chunksize=1000)\n",
    "# cleaned_wsb_posts.to_sql('cleaned_wsb_posts', con=engine, index=False, if_exists=\"append\", chunksize=1000)"
   ]
  },
  {
   "cell_type": "code",
   "execution_count": 9,
   "metadata": {},
   "outputs": [],
   "source": [
    "comment_body_count_agg.to_sql('comment_body_count_agg', con=engine, index=False, if_exists=\"replace\")\n",
    "final_ticker_list.to_sql('final_ticker_list', con=engine, index=False, if_exists=\"replace\")"
   ]
  },
  {
   "cell_type": "code",
   "execution_count": 12,
   "metadata": {},
   "outputs": [],
   "source": [
    "# post_selftext_count_agg.to_sql('post_selftext_count_agg', con=engine, index=False, if_exists=\"replace\")\n",
    "post_selftext_count_df.to_sql('post_selftext_count_df', con=engine, index=False, if_exists=\"replace\")"
   ]
  },
  {
   "cell_type": "code",
   "execution_count": 8,
   "metadata": {},
   "outputs": [],
   "source": [
    "combo_count_agg.to_sql('combo_count_agg', con=engine, index=False, if_exists=\"replace\")\n",
    "combo_count_multiindex.to_sql('combo_count_multiindex', con=engine, index=False, if_exists=\"replace\")"
   ]
  },
  {
   "cell_type": "code",
   "execution_count": 11,
   "metadata": {},
   "outputs": [],
   "source": [
    "post_title_count_agg.to_sql('post_title_count_agg', con=engine, index=False, if_exists=\"replace\", chunksize=1000)\n",
    "# post_title_count_df.to_sql('post_title_count_df', con=engine, index=False, if_exists=\"replace\", chunksize=1000)"
   ]
  },
  {
   "cell_type": "code",
   "execution_count": null,
   "metadata": {},
   "outputs": [],
   "source": [
    "# wallstreetbets_comments.to_sql('wallstreetbets_comments', con=engine, index=False, if_exists=\"replace\", chunksize=1000)\n",
    "# wallstreetbets_posts.to_sql('wallstreetbets_posts', con=engine, index=False, if_exists=\"replace\", chunksize=1000)"
   ]
  },
  {
   "cell_type": "code",
   "execution_count": 10,
   "metadata": {},
   "outputs": [],
   "source": [
    "mentions_price.to_sql('mentions_and_price', con=engine, index=False, if_exists='replace')"
   ]
  },
  {
   "cell_type": "code",
   "execution_count": 34,
   "metadata": {},
   "outputs": [
    {
     "output_type": "execute_result",
     "data": {
      "text/plain": [
       "     name\n",
       "0  User 1\n",
       "1  User 2\n",
       "2  User 3"
      ],
      "text/html": "<div>\n<style scoped>\n    .dataframe tbody tr th:only-of-type {\n        vertical-align: middle;\n    }\n\n    .dataframe tbody tr th {\n        vertical-align: top;\n    }\n\n    .dataframe thead th {\n        text-align: right;\n    }\n</style>\n<table border=\"1\" class=\"dataframe\">\n  <thead>\n    <tr style=\"text-align: right;\">\n      <th></th>\n      <th>name</th>\n    </tr>\n  </thead>\n  <tbody>\n    <tr>\n      <th>0</th>\n      <td>User 1</td>\n    </tr>\n    <tr>\n      <th>1</th>\n      <td>User 2</td>\n    </tr>\n    <tr>\n      <th>2</th>\n      <td>User 3</td>\n    </tr>\n  </tbody>\n</table>\n</div>"
     },
     "metadata": {},
     "execution_count": 34
    }
   ],
   "source": [
    "df = pd.DataFrame({'name' : ['User 1', 'User 2', 'User 3']})\n",
    "df"
   ]
  },
  {
   "cell_type": "code",
   "execution_count": 37,
   "metadata": {},
   "outputs": [
    {
     "output_type": "execute_result",
     "data": {
      "text/plain": [
       "[('User 1',), ('User 2',), ('User 3',), ('User 1',), ('User 2',), ('User 3',)]"
      ]
     },
     "metadata": {},
     "execution_count": 37
    }
   ],
   "source": [
    "df.to_sql('users2', con=engine, index=False, if_exists=\"append\")\n",
    "engine.execute(\"SELECT * FROM users2\").fetchall()"
   ]
  },
  {
   "cell_type": "code",
   "execution_count": 39,
   "metadata": {},
   "outputs": [
    {
     "output_type": "execute_result",
     "data": {
      "text/plain": [
       "     name\n",
       "0  User 1\n",
       "1  User 2\n",
       "2  User 3\n",
       "3  User 1\n",
       "4  User 2\n",
       "5  User 3"
      ],
      "text/html": "<div>\n<style scoped>\n    .dataframe tbody tr th:only-of-type {\n        vertical-align: middle;\n    }\n\n    .dataframe tbody tr th {\n        vertical-align: top;\n    }\n\n    .dataframe thead th {\n        text-align: right;\n    }\n</style>\n<table border=\"1\" class=\"dataframe\">\n  <thead>\n    <tr style=\"text-align: right;\">\n      <th></th>\n      <th>name</th>\n    </tr>\n  </thead>\n  <tbody>\n    <tr>\n      <th>0</th>\n      <td>User 1</td>\n    </tr>\n    <tr>\n      <th>1</th>\n      <td>User 2</td>\n    </tr>\n    <tr>\n      <th>2</th>\n      <td>User 3</td>\n    </tr>\n    <tr>\n      <th>3</th>\n      <td>User 1</td>\n    </tr>\n    <tr>\n      <th>4</th>\n      <td>User 2</td>\n    </tr>\n    <tr>\n      <th>5</th>\n      <td>User 3</td>\n    </tr>\n  </tbody>\n</table>\n</div>"
     },
     "metadata": {},
     "execution_count": 39
    }
   ],
   "source": [
    "df2 = pd.read_sql(\"SELECT * FROM users2\", con=engine)\n",
    "df2"
   ]
  },
  {
   "cell_type": "code",
   "execution_count": 35,
   "metadata": {},
   "outputs": [
    {
     "output_type": "execute_result",
     "data": {
      "text/plain": [
       "   index    name\n",
       "0      0  User 1\n",
       "1      1  User 2\n",
       "2      2  User 3"
      ],
      "text/html": "<div>\n<style scoped>\n    .dataframe tbody tr th:only-of-type {\n        vertical-align: middle;\n    }\n\n    .dataframe tbody tr th {\n        vertical-align: top;\n    }\n\n    .dataframe thead th {\n        text-align: right;\n    }\n</style>\n<table border=\"1\" class=\"dataframe\">\n  <thead>\n    <tr style=\"text-align: right;\">\n      <th></th>\n      <th>index</th>\n      <th>name</th>\n    </tr>\n  </thead>\n  <tbody>\n    <tr>\n      <th>0</th>\n      <td>0</td>\n      <td>User 1</td>\n    </tr>\n    <tr>\n      <th>1</th>\n      <td>1</td>\n      <td>User 2</td>\n    </tr>\n    <tr>\n      <th>2</th>\n      <td>2</td>\n      <td>User 3</td>\n    </tr>\n  </tbody>\n</table>\n</div>"
     },
     "metadata": {},
     "execution_count": 35
    }
   ],
   "source": [
    "df2"
   ]
  },
  {
   "cell_type": "code",
   "execution_count": null,
   "metadata": {},
   "outputs": [],
   "source": []
  }
 ]
}